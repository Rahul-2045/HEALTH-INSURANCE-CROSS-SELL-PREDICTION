{
  "cells": [
    {
      "cell_type": "markdown",
      "metadata": {
        "id": "view-in-github",
        "colab_type": "text"
      },
      "source": [
        "<a href=\"https://colab.research.google.com/github/Rahulverma2045/HEALTH-INSURANCE-CROSS-SELL-PREDICTION/blob/main/TEAM_of_Sample_ML_Submission_Template.ipynb\" target=\"_parent\"><img src=\"https://colab.research.google.com/assets/colab-badge.svg\" alt=\"Open In Colab\"/></a>"
      ]
    },
    {
      "cell_type": "markdown",
      "metadata": {
        "id": "vncDsAP0Gaoa"
      },
      "source": [
        "# **Project Name**    - HEALTH INSURANCE CROSS SELL PREDICTION\n",
        "\n"
      ]
    },
    {
      "cell_type": "markdown",
      "metadata": {
        "id": "beRrZCGUAJYm"
      },
      "source": [
        "#  **Project Type**    - Classification\n",
        "# **Contribution**    - Team\n",
        "# **Team Member 1 -** RAHUL VERMA\n",
        "# **Team Member 2 -** SUMIT SHARMA\n",
        "# **Team Member 3 -** KHUSHBOO KHANARAH\n",
        "# **Team Member 4 -** VISHAL TOMAR"
      ]
    },
    {
      "cell_type": "markdown",
      "metadata": {
        "id": "FJNUwmbgGyua"
      },
      "source": [
        "# **Project Summary -**"
      ]
    },
    {
      "cell_type": "markdown",
      "metadata": {
        "id": "F6v_1wHtG2nS"
      },
      "source": [
        "Write the summary here within 500-600 words."
      ]
    },
    {
      "cell_type": "markdown",
      "metadata": {
        "id": "w6K7xa23Elo4"
      },
      "source": [
        "# **GitHub Link -**"
      ]
    },
    {
      "cell_type": "markdown",
      "metadata": {
        "id": "h1o69JH3Eqqn"
      },
      "source": [
        "Provide your GitHub Link here."
      ]
    },
    {
      "cell_type": "markdown",
      "metadata": {
        "id": "d4uOJ61jy7vI"
      },
      "source": [
        "# **General Guidelines** : - "
      ]
    },
    {
      "cell_type": "markdown",
      "metadata": {
        "id": "CXmBcd72y9Jz"
      },
      "source": [
        "1.   Well-structured, formatted, and commented code is required. \n",
        "2.   Exception Handling, Production Grade Code & Deployment Ready Code will be a plus. Those students will be awarded some additional credits. \n",
        "     \n",
        "     The additional credits will have advantages over other students during Star Student selection.\n",
        "       \n",
        "             [ Note: - Deployment Ready Code is defined as, the whole .ipynb notebook should be executable in one go\n",
        "                       without a single error logged. ]\n",
        "\n",
        "3.   Each and every logic should have proper comments.\n",
        "4. You may add as many number of charts you want. Make Sure for each and every chart the following format should be answered.\n",
        "        \n",
        "\n",
        "```\n",
        "# Chart visualization code\n",
        "```\n",
        "            \n",
        "\n",
        "*   Why did you pick the specific chart?\n",
        "*   What is/are the insight(s) found from the chart?\n",
        "* Will the gained insights help creating a positive business impact? \n",
        "Are there any insights that lead to negative growth? Justify with specific reason.\n",
        "\n",
        "5. You have to create at least 15 logical & meaningful charts having important insights.\n",
        "\n",
        "\n",
        "[ Hints : - Do the Vizualization in  a structured way while following \"UBM\" Rule. \n",
        "\n",
        "U - Univariate Analysis,\n",
        "\n",
        "B - Bivariate Analysis (Numerical - Categorical, Numerical - Numerical, Categorical - Categorical)\n",
        "\n",
        "M - Multivariate Analysis\n",
        " ]\n",
        "\n",
        "6. You may add more ml algorithms for model creation. Make sure for each and every algorithm, the following format should be answered.\n",
        "\n",
        "\n",
        "*   Explain the ML Model used and it's performance using Evaluation metric Score Chart.\n",
        "\n",
        "\n",
        "*   Cross- Validation & Hyperparameter Tuning\n",
        "\n",
        "*   Have you seen any improvement? Note down the improvement with updates Evaluation metric Score Chart.\n",
        "\n",
        "*   Explain each evaluation metric's indication towards business and the business impact pf the ML model used.\n"
      ]
    },
    {
      "cell_type": "markdown",
      "metadata": {
        "id": "yQaldy8SH6Dl"
      },
      "source": [
        "# **Problem Statement**\n",
        "\n",
        "\n",
        "\n",
        "<!-- Our client is an Insurance company that has provided Health Insurance to its customers now they need your help in building a model to predict whether the policyholders (customers) from past year will also be interested in Vehicle Insurance provided by the company. -->\n",
        "\n",
        " An insurance policy is an arrangement by which a company undertakes to provide a guarantee of compensation for specified loss, damage, illness, or death in return for the payment of a specified premium. A premium is a sum of money that the customer needs to pay regularly to an insurance company for this guarantee.\n",
        "\n",
        " For example, you may pay a premium of Rs. 5000 each year for a health insurance cover of Rs. 200,000/- so that if, God forbid, you fall ill and need to be hospitalised in that year, the insurance provider company will bear the cost of hospitalisation etc. for upto Rs. 200,000. Now if you are wondering how can company bear such high hospitalisation cost when it charges a premium of only Rs. 5000/-, that is where the concept of probabilities comes in picture. For example, like you, there may be 100 customers who would be paying a premium of Rs. 5000 every year, but only a few of them (say 2-3) would get hospitalised that year and not everyone. This way everyone shares the risk of everyone else.\n",
        "\n",
        " Just like medical insurance, there is vehicle insurance where every year customer needs to pay a premium of certain amount to insurance provider company so that in case of unfortunate accident by the vehicle, the insurance provider company will provide a compensation (called ‘sum assured’) to the customer.\n",
        "\n",
        " Building a model to predict whether a customer would be interested in Vehicle Insurance is extremely helpful for the company because it can then accordingly plan its communication strategy to reach out to those customers and optimise its business model and revenue.\n",
        "\n",
        " Now, in order to predict, whether the customer would be interested in Vehicle insurance, you have information about demographics (gender, age, region code type), Vehicles (Vehicle Age, Damage), Policy (Premium, sourcing channel) etc."
      ]
    },
    {
      "cell_type": "markdown",
      "source": [
        "![download.png](data:image/png;base64,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)"
      ],
      "metadata": {
        "id": "B6xhlPySb7Wa"
      }
    },
    {
      "cell_type": "markdown",
      "metadata": {
        "id": "xEF0z0gUyLTj"
      },
      "source": [
        "# **Attribute Information**"
      ]
    },
    {
      "cell_type": "markdown",
      "metadata": {
        "id": "KHfGhj-ayPHF"
      },
      "source": [
        "1. id :\tUnique ID for the customer\n",
        "\n",
        "2. Gender\t: Gender of the customer\n",
        "\n",
        "3. Age :\tAge of the customer\n",
        "\n",
        "4. Driving_License\t0 : Customer does not have DL, 1 : Customer already has DL\n",
        "\n",
        "5. Region_Code :\tUnique code for the region of the customer\n",
        "\n",
        "6. Previously_Insured\t: 1 : Customer already has Vehicle Insurance, 0 : Customer doesn't have Vehicle Insurance\n",
        "\n",
        "7. Vehicle_Age :\tAge of the Vehicle\n",
        "\n",
        "8. Vehicle_Damage\t :1 : Customer got his/her vehicle damaged in the past. 0 : Customer didn't get his/her vehicle damaged in the past.\n",
        "\n",
        "9. Annual_Premium\t: The amount customer needs to pay as premium in the year\n",
        "\n",
        "10. PolicySalesChannel :\tAnonymized Code for the channel of outreaching to the customer ie. Different Agents, Over Mail, Over Phone, In Person, etc.\n",
        "\n",
        "11. Vintage :\tNumber of Days, Customer has been associated with the company\n",
        "\n",
        "12. Response :\t1 : Customer is interested, 0 : Customer is not interested"
      ]
    },
    {
      "cell_type": "markdown",
      "metadata": {
        "id": "5pZo7MFXyub5"
      },
      "source": [
        "## **A Quick overview of our strategy:**\n",
        "This project is divided into multiple sections and each section will have its own importance to our problem statement. the approach that we will be following in this project is given as-\n",
        "\n",
        "Section 1: Data overview: In this section, we will be importing important libraries and simply loading our dataset into google collab and will explore the basic information about the data.\n",
        "\n",
        "Section 2: Exploratory Data Analysis: In this section, We will focus on Exploratory data analysis of the dataset using various methods and visualization plots and will be extracting the information from this dataset as much as we can.\n",
        "\n",
        "Section 3: Outliers handling: In this section, we will be dealing with outliers in our dataset and will see how to define our outlier criteria and deal with outliers.\n",
        "\n",
        "Section 4: Feature Engineering: In this Section, we will be splitting the data into training and testing datasets then we will be scaling the data.\n",
        "Section 6: Model implementation: In this section, we will be applying and evaluating the ML models to predict the results.\n",
        "\n",
        "Section 7: Model Explainability: In this section, we will use model explainability to explain the results.\n",
        "\n",
        "Section 8: In this section, we will be giving a quick summary of the entire notebook."
      ]
    },
    {
      "cell_type": "markdown",
      "metadata": {
        "id": "O_i_v8NEhb9l"
      },
      "source": [
        "# ***Let's Begin !***"
      ]
    },
    {
      "cell_type": "markdown",
      "metadata": {
        "id": "HhfV-JJviCcP"
      },
      "source": [
        "## ***1. Know Your Data***"
      ]
    },
    {
      "cell_type": "markdown",
      "metadata": {
        "id": "Y3lxredqlCYt"
      },
      "source": [
        "### Import Libraries"
      ]
    },
    {
      "cell_type": "code",
      "execution_count": 1,
      "metadata": {
        "id": "M8Vqi-pPk-HR"
      },
      "outputs": [],
      "source": [
        "# Importing important libraries\n",
        "import pandas as pd\n",
        "import numpy as np\n",
        "import matplotlib.pyplot as plt\n",
        "import seaborn as sns\n",
        "\n",
        "import warnings\n",
        "warnings.filterwarnings('ignore')\n",
        "\n",
        "from sklearn.model_selection import train_test_split , GridSearchCV, RandomizedSearchCV\n",
        "from sklearn.metrics import confusion_matrix,classification_report,plot_confusion_matrix\n",
        "from sklearn.metrics import plot_precision_recall_curve,plot_roc_curve\n",
        "\n",
        "from sklearn.preprocessing import StandardScaler, OneHotEncoder, LabelEncoder\n",
        "from sklearn.preprocessing import MinMaxScaler\n",
        "from sklearn.tree import DecisionTreeClassifier\n",
        "from sklearn.ensemble import RandomForestClassifier\n",
        "from collections import Counter"
      ]
    },
    {
      "cell_type": "markdown",
      "metadata": {
        "id": "3RnN4peoiCZX"
      },
      "source": [
        "### Dataset Loading"
      ]
    },
    {
      "cell_type": "code",
      "execution_count": null,
      "metadata": {
        "id": "wOhw12wq0EZq"
      },
      "outputs": [],
      "source": [
        "from google.colab import drive\n",
        "drive.mount('/content/drive')"
      ]
    },
    {
      "cell_type": "markdown",
      "metadata": {
        "id": "x71ZqKXriCWQ"
      },
      "source": [
        "### Dataset First View"
      ]
    },
    {
      "cell_type": "code",
      "execution_count": null,
      "metadata": {
        "id": "LWNFOSvLl09H"
      },
      "outputs": [],
      "source": [
        "# Dataset First Look\n",
        "initial_df  =  pd.read_csv('/content/drive/MyDrive/TRAIN-HEALTH INSURANCE CROSS SELL PREDICTION.csv')"
      ]
    },
    {
      "cell_type": "code",
      "execution_count": null,
      "metadata": {
        "id": "q6YkTlD4j2xu"
      },
      "outputs": [],
      "source": [
        "# creating a copy of the given data and naming it as df\n",
        "df = initial_df.copy()"
      ]
    },
    {
      "cell_type": "markdown",
      "metadata": {
        "id": "7hBIi_osiCS2"
      },
      "source": [
        "### Dataset Rows & Columns count"
      ]
    },
    {
      "cell_type": "code",
      "execution_count": null,
      "metadata": {
        "colab": {
          "base_uri": "https://localhost:8080/",
          "height": 206
        },
        "id": "Kllu7SJgmLij",
        "outputId": "195b6779-6081-4dfc-82fa-8b99bc4fea24"
      },
      "outputs": [
        {
          "output_type": "execute_result",
          "data": {
            "text/plain": [
              "   id  Gender  Age  Driving_License  Region_Code  Previously_Insured  \\\n",
              "0   1    Male   44                1         28.0                   0   \n",
              "1   2    Male   76                1          3.0                   0   \n",
              "2   3    Male   47                1         28.0                   0   \n",
              "3   4    Male   21                1         11.0                   1   \n",
              "4   5  Female   29                1         41.0                   1   \n",
              "\n",
              "  Vehicle_Age Vehicle_Damage  Annual_Premium  Policy_Sales_Channel  Vintage  \\\n",
              "0   > 2 Years            Yes         40454.0                  26.0      217   \n",
              "1    1-2 Year             No         33536.0                  26.0      183   \n",
              "2   > 2 Years            Yes         38294.0                  26.0       27   \n",
              "3    < 1 Year             No         28619.0                 152.0      203   \n",
              "4    < 1 Year             No         27496.0                 152.0       39   \n",
              "\n",
              "   Response  \n",
              "0         1  \n",
              "1         0  \n",
              "2         1  \n",
              "3         0  \n",
              "4         0  "
            ],
            "text/html": [
              "\n",
              "  <div id=\"df-ee93bcb4-0fcb-43d5-b515-40907d194f78\">\n",
              "    <div class=\"colab-df-container\">\n",
              "      <div>\n",
              "<style scoped>\n",
              "    .dataframe tbody tr th:only-of-type {\n",
              "        vertical-align: middle;\n",
              "    }\n",
              "\n",
              "    .dataframe tbody tr th {\n",
              "        vertical-align: top;\n",
              "    }\n",
              "\n",
              "    .dataframe thead th {\n",
              "        text-align: right;\n",
              "    }\n",
              "</style>\n",
              "<table border=\"1\" class=\"dataframe\">\n",
              "  <thead>\n",
              "    <tr style=\"text-align: right;\">\n",
              "      <th></th>\n",
              "      <th>id</th>\n",
              "      <th>Gender</th>\n",
              "      <th>Age</th>\n",
              "      <th>Driving_License</th>\n",
              "      <th>Region_Code</th>\n",
              "      <th>Previously_Insured</th>\n",
              "      <th>Vehicle_Age</th>\n",
              "      <th>Vehicle_Damage</th>\n",
              "      <th>Annual_Premium</th>\n",
              "      <th>Policy_Sales_Channel</th>\n",
              "      <th>Vintage</th>\n",
              "      <th>Response</th>\n",
              "    </tr>\n",
              "  </thead>\n",
              "  <tbody>\n",
              "    <tr>\n",
              "      <th>0</th>\n",
              "      <td>1</td>\n",
              "      <td>Male</td>\n",
              "      <td>44</td>\n",
              "      <td>1</td>\n",
              "      <td>28.0</td>\n",
              "      <td>0</td>\n",
              "      <td>&gt; 2 Years</td>\n",
              "      <td>Yes</td>\n",
              "      <td>40454.0</td>\n",
              "      <td>26.0</td>\n",
              "      <td>217</td>\n",
              "      <td>1</td>\n",
              "    </tr>\n",
              "    <tr>\n",
              "      <th>1</th>\n",
              "      <td>2</td>\n",
              "      <td>Male</td>\n",
              "      <td>76</td>\n",
              "      <td>1</td>\n",
              "      <td>3.0</td>\n",
              "      <td>0</td>\n",
              "      <td>1-2 Year</td>\n",
              "      <td>No</td>\n",
              "      <td>33536.0</td>\n",
              "      <td>26.0</td>\n",
              "      <td>183</td>\n",
              "      <td>0</td>\n",
              "    </tr>\n",
              "    <tr>\n",
              "      <th>2</th>\n",
              "      <td>3</td>\n",
              "      <td>Male</td>\n",
              "      <td>47</td>\n",
              "      <td>1</td>\n",
              "      <td>28.0</td>\n",
              "      <td>0</td>\n",
              "      <td>&gt; 2 Years</td>\n",
              "      <td>Yes</td>\n",
              "      <td>38294.0</td>\n",
              "      <td>26.0</td>\n",
              "      <td>27</td>\n",
              "      <td>1</td>\n",
              "    </tr>\n",
              "    <tr>\n",
              "      <th>3</th>\n",
              "      <td>4</td>\n",
              "      <td>Male</td>\n",
              "      <td>21</td>\n",
              "      <td>1</td>\n",
              "      <td>11.0</td>\n",
              "      <td>1</td>\n",
              "      <td>&lt; 1 Year</td>\n",
              "      <td>No</td>\n",
              "      <td>28619.0</td>\n",
              "      <td>152.0</td>\n",
              "      <td>203</td>\n",
              "      <td>0</td>\n",
              "    </tr>\n",
              "    <tr>\n",
              "      <th>4</th>\n",
              "      <td>5</td>\n",
              "      <td>Female</td>\n",
              "      <td>29</td>\n",
              "      <td>1</td>\n",
              "      <td>41.0</td>\n",
              "      <td>1</td>\n",
              "      <td>&lt; 1 Year</td>\n",
              "      <td>No</td>\n",
              "      <td>27496.0</td>\n",
              "      <td>152.0</td>\n",
              "      <td>39</td>\n",
              "      <td>0</td>\n",
              "    </tr>\n",
              "  </tbody>\n",
              "</table>\n",
              "</div>\n",
              "      <button class=\"colab-df-convert\" onclick=\"convertToInteractive('df-ee93bcb4-0fcb-43d5-b515-40907d194f78')\"\n",
              "              title=\"Convert this dataframe to an interactive table.\"\n",
              "              style=\"display:none;\">\n",
              "        \n",
              "  <svg xmlns=\"http://www.w3.org/2000/svg\" height=\"24px\"viewBox=\"0 0 24 24\"\n",
              "       width=\"24px\">\n",
              "    <path d=\"M0 0h24v24H0V0z\" fill=\"none\"/>\n",
              "    <path d=\"M18.56 5.44l.94 2.06.94-2.06 2.06-.94-2.06-.94-.94-2.06-.94 2.06-2.06.94zm-11 1L8.5 8.5l.94-2.06 2.06-.94-2.06-.94L8.5 2.5l-.94 2.06-2.06.94zm10 10l.94 2.06.94-2.06 2.06-.94-2.06-.94-.94-2.06-.94 2.06-2.06.94z\"/><path d=\"M17.41 7.96l-1.37-1.37c-.4-.4-.92-.59-1.43-.59-.52 0-1.04.2-1.43.59L10.3 9.45l-7.72 7.72c-.78.78-.78 2.05 0 2.83L4 21.41c.39.39.9.59 1.41.59.51 0 1.02-.2 1.41-.59l7.78-7.78 2.81-2.81c.8-.78.8-2.07 0-2.86zM5.41 20L4 18.59l7.72-7.72 1.47 1.35L5.41 20z\"/>\n",
              "  </svg>\n",
              "      </button>\n",
              "      \n",
              "  <style>\n",
              "    .colab-df-container {\n",
              "      display:flex;\n",
              "      flex-wrap:wrap;\n",
              "      gap: 12px;\n",
              "    }\n",
              "\n",
              "    .colab-df-convert {\n",
              "      background-color: #E8F0FE;\n",
              "      border: none;\n",
              "      border-radius: 50%;\n",
              "      cursor: pointer;\n",
              "      display: none;\n",
              "      fill: #1967D2;\n",
              "      height: 32px;\n",
              "      padding: 0 0 0 0;\n",
              "      width: 32px;\n",
              "    }\n",
              "\n",
              "    .colab-df-convert:hover {\n",
              "      background-color: #E2EBFA;\n",
              "      box-shadow: 0px 1px 2px rgba(60, 64, 67, 0.3), 0px 1px 3px 1px rgba(60, 64, 67, 0.15);\n",
              "      fill: #174EA6;\n",
              "    }\n",
              "\n",
              "    [theme=dark] .colab-df-convert {\n",
              "      background-color: #3B4455;\n",
              "      fill: #D2E3FC;\n",
              "    }\n",
              "\n",
              "    [theme=dark] .colab-df-convert:hover {\n",
              "      background-color: #434B5C;\n",
              "      box-shadow: 0px 1px 3px 1px rgba(0, 0, 0, 0.15);\n",
              "      filter: drop-shadow(0px 1px 2px rgba(0, 0, 0, 0.3));\n",
              "      fill: #FFFFFF;\n",
              "    }\n",
              "  </style>\n",
              "\n",
              "      <script>\n",
              "        const buttonEl =\n",
              "          document.querySelector('#df-ee93bcb4-0fcb-43d5-b515-40907d194f78 button.colab-df-convert');\n",
              "        buttonEl.style.display =\n",
              "          google.colab.kernel.accessAllowed ? 'block' : 'none';\n",
              "\n",
              "        async function convertToInteractive(key) {\n",
              "          const element = document.querySelector('#df-ee93bcb4-0fcb-43d5-b515-40907d194f78');\n",
              "          const dataTable =\n",
              "            await google.colab.kernel.invokeFunction('convertToInteractive',\n",
              "                                                     [key], {});\n",
              "          if (!dataTable) return;\n",
              "\n",
              "          const docLinkHtml = 'Like what you see? Visit the ' +\n",
              "            '<a target=\"_blank\" href=https://colab.research.google.com/notebooks/data_table.ipynb>data table notebook</a>'\n",
              "            + ' to learn more about interactive tables.';\n",
              "          element.innerHTML = '';\n",
              "          dataTable['output_type'] = 'display_data';\n",
              "          await google.colab.output.renderOutput(dataTable, element);\n",
              "          const docLink = document.createElement('div');\n",
              "          docLink.innerHTML = docLinkHtml;\n",
              "          element.appendChild(docLink);\n",
              "        }\n",
              "      </script>\n",
              "    </div>\n",
              "  </div>\n",
              "  "
            ]
          },
          "metadata": {},
          "execution_count": 9
        }
      ],
      "source": [
        "# exploring first 5 rows\n",
        "df.head()"
      ]
    },
    {
      "cell_type": "markdown",
      "metadata": {
        "id": "JlHwYmJAmNHm"
      },
      "source": [
        "### Dataset Information"
      ]
    },
    {
      "cell_type": "code",
      "execution_count": null,
      "metadata": {
        "colab": {
          "base_uri": "https://localhost:8080/"
        },
        "id": "e9hRXRi6meOf",
        "outputId": "bf47f093-dcaa-4e79-8f1d-32b9b0683154"
      },
      "outputs": [
        {
          "output_type": "stream",
          "name": "stdout",
          "text": [
            "<class 'pandas.core.frame.DataFrame'>\n",
            "RangeIndex: 381109 entries, 0 to 381108\n",
            "Data columns (total 12 columns):\n",
            " #   Column                Non-Null Count   Dtype  \n",
            "---  ------                --------------   -----  \n",
            " 0   id                    381109 non-null  int64  \n",
            " 1   Gender                381109 non-null  object \n",
            " 2   Age                   381109 non-null  int64  \n",
            " 3   Driving_License       381109 non-null  int64  \n",
            " 4   Region_Code           381109 non-null  float64\n",
            " 5   Previously_Insured    381109 non-null  int64  \n",
            " 6   Vehicle_Age           381109 non-null  object \n",
            " 7   Vehicle_Damage        381109 non-null  object \n",
            " 8   Annual_Premium        381109 non-null  float64\n",
            " 9   Policy_Sales_Channel  381109 non-null  float64\n",
            " 10  Vintage               381109 non-null  int64  \n",
            " 11  Response              381109 non-null  int64  \n",
            "dtypes: float64(3), int64(6), object(3)\n",
            "memory usage: 34.9+ MB\n"
          ]
        }
      ],
      "source": [
        " # getting basic information\n",
        "df.info()"
      ]
    },
    {
      "cell_type": "markdown",
      "metadata": {
        "id": "35m5QtbWiB9F"
      },
      "source": [
        "#### Duplicate Values"
      ]
    },
    {
      "cell_type": "code",
      "execution_count": null,
      "metadata": {
        "colab": {
          "base_uri": "https://localhost:8080/"
        },
        "id": "1sLdpKYkmox0",
        "outputId": "adbd45c7-0c34-4e9e-eb45-81532b7424ea"
      },
      "outputs": [
        {
          "output_type": "stream",
          "name": "stdout",
          "text": [
            "Duplicate entry in df: 0\n"
          ]
        }
      ],
      "source": [
        "# Dataset Duplicate Value Count\n",
        "print(\"Duplicate entry in df:\",len(df[df.duplicated()])) "
      ]
    },
    {
      "cell_type": "markdown",
      "metadata": {
        "id": "PoPl-ycgm1ru"
      },
      "source": [
        "#### Missing Values/Null Values"
      ]
    },
    {
      "cell_type": "code",
      "execution_count": null,
      "metadata": {
        "colab": {
          "base_uri": "https://localhost:8080/"
        },
        "id": "GgHWkxvamxVg",
        "outputId": "50fc5353-cc90-43f9-9f24-9cc49357eb07"
      },
      "outputs": [
        {
          "output_type": "execute_result",
          "data": {
            "text/plain": [
              "id                      0\n",
              "Gender                  0\n",
              "Age                     0\n",
              "Driving_License         0\n",
              "Region_Code             0\n",
              "Previously_Insured      0\n",
              "Vehicle_Age             0\n",
              "Vehicle_Damage          0\n",
              "Annual_Premium          0\n",
              "Policy_Sales_Channel    0\n",
              "Vintage                 0\n",
              "Response                0\n",
              "dtype: int64"
            ]
          },
          "metadata": {},
          "execution_count": 12
        }
      ],
      "source": [
        "# Missing Values/Null Values Count\n",
        "# checking for null values\n",
        "df.isnull().sum()"
      ]
    },
    {
      "cell_type": "code",
      "execution_count": null,
      "metadata": {
        "colab": {
          "base_uri": "https://localhost:8080/",
          "height": 454
        },
        "id": "3q5wnI3om9sJ",
        "outputId": "6998ffaf-a28e-4c08-d089-fdc6e0e8cccd"
      },
      "outputs": [
        {
          "output_type": "display_data",
          "data": {
            "text/plain": [
              "<Figure size 1008x360 with 2 Axes>"
            ],
            "image/png": "[encoded data removed]"
          },
          "metadata": {
            "needs_background": "light"
          }
        }
      ],
      "source": [
        "# Visualizing the missing values\n",
        "plt.figure(figsize=(14, 5))\n",
        "sns.heatmap(df.isnull(), cbar=True, yticklabels=False)\n",
        "plt.xlabel(\"column_name\", size=14, weight=\"bold\")\n",
        "plt.title(\"missing values in column\",fontweight=\"bold\",size=17)\n",
        "plt.show()"
      ]
    },
    {
      "cell_type": "markdown",
      "metadata": {
        "id": "H0kj-8xxnORC"
      },
      "source": [
        "### What did you know about your dataset?"
      ]
    },
    {
      "cell_type": "markdown",
      "metadata": {
        "id": "gfoNAAC-nUe_"
      },
      "source": [
        "Answer Here"
      ]
    },
    {
      "cell_type": "markdown",
      "metadata": {
        "id": "nA9Y7ga8ng1Z"
      },
      "source": [
        "## ***2. Understanding Your Variables***"
      ]
    },
    {
      "cell_type": "code",
      "execution_count": null,
      "metadata": {
        "colab": {
          "base_uri": "https://localhost:8080/"
        },
        "id": "j7xfkqrt5Ag5",
        "outputId": "df52c43b-7332-4c53-b31a-59bb452f08c3"
      },
      "outputs": [
        {
          "output_type": "stream",
          "name": "stdout",
          "text": [
            "id                     0.00 %\n",
            "Gender                 0.00 %\n",
            "Age                    0.00 %\n",
            "Driving_License        0.00 %\n",
            "Region_Code            0.00 %\n",
            "Previously_Insured     0.00 %\n",
            "Vehicle_Age            0.00 %\n",
            "Vehicle_Damage         0.00 %\n",
            "Annual_Premium         0.00 %\n",
            "Policy_Sales_Channel   0.00 %\n",
            "Vintage                0.00 %\n",
            "Response               0.00 %\n",
            "dtype: float64\n"
          ]
        }
      ],
      "source": [
        "# Dataset Columns\n",
        "pd.options.display.float_format = '{:,.2f} %'.format\n",
        "print((df.isnull().sum()/len(df))*100)\n",
        "pd.options.display.float_format = '{:,.2f}'.format"
      ]
    },
    {
      "cell_type": "code",
      "execution_count": null,
      "metadata": {
        "colab": {
          "base_uri": "https://localhost:8080/",
          "height": 300
        },
        "id": "DnOaZdaE5Q5t",
        "outputId": "825149f5-3259-42cb-fa19-3358a4579c00"
      },
      "outputs": [
        {
          "output_type": "execute_result",
          "data": {
            "text/plain": [
              "<pandas.io.formats.style.Styler at 0x7f0d708ad340>"
            ],
            "text/html": [
              "<style type=\"text/css\">\n",
              "#T_8c5e0_row0_col0, #T_8c5e0_row0_col1, #T_8c5e0_row0_col2, #T_8c5e0_row0_col3, #T_8c5e0_row0_col4, #T_8c5e0_row0_col6, #T_8c5e0_row0_col7, #T_8c5e0_row0_col8, #T_8c5e0_row7_col0, #T_8c5e0_row7_col5 {\n",
              "  background-color: #023858;\n",
              "  color: #f1f1f1;\n",
              "}\n",
              "#T_8c5e0_row0_col5 {\n",
              "  background-color: #167bb6;\n",
              "  color: #f1f1f1;\n",
              "}\n",
              "#T_8c5e0_row1_col0, #T_8c5e0_row5_col0 {\n",
              "  background-color: #73a9cf;\n",
              "  color: #f1f1f1;\n",
              "}\n",
              "#T_8c5e0_row1_col1, #T_8c5e0_row1_col2, #T_8c5e0_row1_col3, #T_8c5e0_row1_col4, #T_8c5e0_row1_col6, #T_8c5e0_row1_col7, #T_8c5e0_row1_col8, #T_8c5e0_row2_col1, #T_8c5e0_row2_col2, #T_8c5e0_row2_col3, #T_8c5e0_row2_col4, #T_8c5e0_row2_col6, #T_8c5e0_row2_col7, #T_8c5e0_row2_col8, #T_8c5e0_row3_col0, #T_8c5e0_row3_col1, #T_8c5e0_row3_col2, #T_8c5e0_row3_col3, #T_8c5e0_row3_col4, #T_8c5e0_row3_col5, #T_8c5e0_row3_col6, #T_8c5e0_row3_col7, #T_8c5e0_row3_col8, #T_8c5e0_row4_col1, #T_8c5e0_row4_col2, #T_8c5e0_row4_col3, #T_8c5e0_row4_col4, #T_8c5e0_row4_col6, #T_8c5e0_row4_col7, #T_8c5e0_row4_col8, #T_8c5e0_row5_col1, #T_8c5e0_row5_col2, #T_8c5e0_row5_col3, #T_8c5e0_row5_col4, #T_8c5e0_row5_col6, #T_8c5e0_row5_col7, #T_8c5e0_row5_col8, #T_8c5e0_row6_col1, #T_8c5e0_row6_col2, #T_8c5e0_row6_col3, #T_8c5e0_row6_col4, #T_8c5e0_row6_col6, #T_8c5e0_row6_col7, #T_8c5e0_row6_col8, #T_8c5e0_row7_col1, #T_8c5e0_row7_col2, #T_8c5e0_row7_col3, #T_8c5e0_row7_col4, #T_8c5e0_row7_col6, #T_8c5e0_row7_col7, #T_8c5e0_row7_col8 {\n",
              "  background-color: #fff7fb;\n",
              "  color: #000000;\n",
              "}\n",
              "#T_8c5e0_row1_col5, #T_8c5e0_row5_col5 {\n",
              "  background-color: #f7f0f7;\n",
              "  color: #000000;\n",
              "}\n",
              "#T_8c5e0_row2_col0 {\n",
              "  background-color: #c4cbe3;\n",
              "  color: #000000;\n",
              "}\n",
              "#T_8c5e0_row2_col5 {\n",
              "  background-color: #fbf4f9;\n",
              "  color: #000000;\n",
              "}\n",
              "#T_8c5e0_row4_col0 {\n",
              "  background-color: #d0d1e6;\n",
              "  color: #000000;\n",
              "}\n",
              "#T_8c5e0_row4_col5 {\n",
              "  background-color: #f9f2f8;\n",
              "  color: #000000;\n",
              "}\n",
              "#T_8c5e0_row6_col0 {\n",
              "  background-color: #056faf;\n",
              "  color: #f1f1f1;\n",
              "}\n",
              "#T_8c5e0_row6_col5 {\n",
              "  background-color: #f5eef6;\n",
              "  color: #000000;\n",
              "}\n",
              "</style>\n",
              "<table id=\"T_8c5e0_\" class=\"dataframe\">\n",
              "  <thead>\n",
              "    <tr>\n",
              "      <th class=\"blank level0\" >&nbsp;</th>\n",
              "      <th class=\"col_heading level0 col0\" >id</th>\n",
              "      <th class=\"col_heading level0 col1\" >Age</th>\n",
              "      <th class=\"col_heading level0 col2\" >Driving_License</th>\n",
              "      <th class=\"col_heading level0 col3\" >Region_Code</th>\n",
              "      <th class=\"col_heading level0 col4\" >Previously_Insured</th>\n",
              "      <th class=\"col_heading level0 col5\" >Annual_Premium</th>\n",
              "      <th class=\"col_heading level0 col6\" >Policy_Sales_Channel</th>\n",
              "      <th class=\"col_heading level0 col7\" >Vintage</th>\n",
              "      <th class=\"col_heading level0 col8\" >Response</th>\n",
              "    </tr>\n",
              "  </thead>\n",
              "  <tbody>\n",
              "    <tr>\n",
              "      <th id=\"T_8c5e0_level0_row0\" class=\"row_heading level0 row0\" >count</th>\n",
              "      <td id=\"T_8c5e0_row0_col0\" class=\"data row0 col0\" >381109.000000</td>\n",
              "      <td id=\"T_8c5e0_row0_col1\" class=\"data row0 col1\" >381109.000000</td>\n",
              "      <td id=\"T_8c5e0_row0_col2\" class=\"data row0 col2\" >381109.000000</td>\n",
              "      <td id=\"T_8c5e0_row0_col3\" class=\"data row0 col3\" >381109.000000</td>\n",
              "      <td id=\"T_8c5e0_row0_col4\" class=\"data row0 col4\" >381109.000000</td>\n",
              "      <td id=\"T_8c5e0_row0_col5\" class=\"data row0 col5\" >381109.000000</td>\n",
              "      <td id=\"T_8c5e0_row0_col6\" class=\"data row0 col6\" >381109.000000</td>\n",
              "      <td id=\"T_8c5e0_row0_col7\" class=\"data row0 col7\" >381109.000000</td>\n",
              "      <td id=\"T_8c5e0_row0_col8\" class=\"data row0 col8\" >381109.000000</td>\n",
              "    </tr>\n",
              "    <tr>\n",
              "      <th id=\"T_8c5e0_level0_row1\" class=\"row_heading level0 row1\" >mean</th>\n",
              "      <td id=\"T_8c5e0_row1_col0\" class=\"data row1 col0\" >190555.000000</td>\n",
              "      <td id=\"T_8c5e0_row1_col1\" class=\"data row1 col1\" >38.822584</td>\n",
              "      <td id=\"T_8c5e0_row1_col2\" class=\"data row1 col2\" >0.997869</td>\n",
              "      <td id=\"T_8c5e0_row1_col3\" class=\"data row1 col3\" >26.388807</td>\n",
              "      <td id=\"T_8c5e0_row1_col4\" class=\"data row1 col4\" >0.458210</td>\n",
              "      <td id=\"T_8c5e0_row1_col5\" class=\"data row1 col5\" >30564.389581</td>\n",
              "      <td id=\"T_8c5e0_row1_col6\" class=\"data row1 col6\" >112.034295</td>\n",
              "      <td id=\"T_8c5e0_row1_col7\" class=\"data row1 col7\" >154.347397</td>\n",
              "      <td id=\"T_8c5e0_row1_col8\" class=\"data row1 col8\" >0.122563</td>\n",
              "    </tr>\n",
              "    <tr>\n",
              "      <th id=\"T_8c5e0_level0_row2\" class=\"row_heading level0 row2\" >std</th>\n",
              "      <td id=\"T_8c5e0_row2_col0\" class=\"data row2 col0\" >110016.836208</td>\n",
              "      <td id=\"T_8c5e0_row2_col1\" class=\"data row2 col1\" >15.511611</td>\n",
              "      <td id=\"T_8c5e0_row2_col2\" class=\"data row2 col2\" >0.046110</td>\n",
              "      <td id=\"T_8c5e0_row2_col3\" class=\"data row2 col3\" >13.229888</td>\n",
              "      <td id=\"T_8c5e0_row2_col4\" class=\"data row2 col4\" >0.498251</td>\n",
              "      <td id=\"T_8c5e0_row2_col5\" class=\"data row2 col5\" >17213.155057</td>\n",
              "      <td id=\"T_8c5e0_row2_col6\" class=\"data row2 col6\" >54.203995</td>\n",
              "      <td id=\"T_8c5e0_row2_col7\" class=\"data row2 col7\" >83.671304</td>\n",
              "      <td id=\"T_8c5e0_row2_col8\" class=\"data row2 col8\" >0.327936</td>\n",
              "    </tr>\n",
              "    <tr>\n",
              "      <th id=\"T_8c5e0_level0_row3\" class=\"row_heading level0 row3\" >min</th>\n",
              "      <td id=\"T_8c5e0_row3_col0\" class=\"data row3 col0\" >1.000000</td>\n",
              "      <td id=\"T_8c5e0_row3_col1\" class=\"data row3 col1\" >20.000000</td>\n",
              "      <td id=\"T_8c5e0_row3_col2\" class=\"data row3 col2\" >0.000000</td>\n",
              "      <td id=\"T_8c5e0_row3_col3\" class=\"data row3 col3\" >0.000000</td>\n",
              "      <td id=\"T_8c5e0_row3_col4\" class=\"data row3 col4\" >0.000000</td>\n",
              "      <td id=\"T_8c5e0_row3_col5\" class=\"data row3 col5\" >2630.000000</td>\n",
              "      <td id=\"T_8c5e0_row3_col6\" class=\"data row3 col6\" >1.000000</td>\n",
              "      <td id=\"T_8c5e0_row3_col7\" class=\"data row3 col7\" >10.000000</td>\n",
              "      <td id=\"T_8c5e0_row3_col8\" class=\"data row3 col8\" >0.000000</td>\n",
              "    </tr>\n",
              "    <tr>\n",
              "      <th id=\"T_8c5e0_level0_row4\" class=\"row_heading level0 row4\" >25%</th>\n",
              "      <td id=\"T_8c5e0_row4_col0\" class=\"data row4 col0\" >95278.000000</td>\n",
              "      <td id=\"T_8c5e0_row4_col1\" class=\"data row4 col1\" >25.000000</td>\n",
              "      <td id=\"T_8c5e0_row4_col2\" class=\"data row4 col2\" >1.000000</td>\n",
              "      <td id=\"T_8c5e0_row4_col3\" class=\"data row4 col3\" >15.000000</td>\n",
              "      <td id=\"T_8c5e0_row4_col4\" class=\"data row4 col4\" >0.000000</td>\n",
              "      <td id=\"T_8c5e0_row4_col5\" class=\"data row4 col5\" >24405.000000</td>\n",
              "      <td id=\"T_8c5e0_row4_col6\" class=\"data row4 col6\" >29.000000</td>\n",
              "      <td id=\"T_8c5e0_row4_col7\" class=\"data row4 col7\" >82.000000</td>\n",
              "      <td id=\"T_8c5e0_row4_col8\" class=\"data row4 col8\" >0.000000</td>\n",
              "    </tr>\n",
              "    <tr>\n",
              "      <th id=\"T_8c5e0_level0_row5\" class=\"row_heading level0 row5\" >50%</th>\n",
              "      <td id=\"T_8c5e0_row5_col0\" class=\"data row5 col0\" >190555.000000</td>\n",
              "      <td id=\"T_8c5e0_row5_col1\" class=\"data row5 col1\" >36.000000</td>\n",
              "      <td id=\"T_8c5e0_row5_col2\" class=\"data row5 col2\" >1.000000</td>\n",
              "      <td id=\"T_8c5e0_row5_col3\" class=\"data row5 col3\" >28.000000</td>\n",
              "      <td id=\"T_8c5e0_row5_col4\" class=\"data row5 col4\" >0.000000</td>\n",
              "      <td id=\"T_8c5e0_row5_col5\" class=\"data row5 col5\" >31669.000000</td>\n",
              "      <td id=\"T_8c5e0_row5_col6\" class=\"data row5 col6\" >133.000000</td>\n",
              "      <td id=\"T_8c5e0_row5_col7\" class=\"data row5 col7\" >154.000000</td>\n",
              "      <td id=\"T_8c5e0_row5_col8\" class=\"data row5 col8\" >0.000000</td>\n",
              "    </tr>\n",
              "    <tr>\n",
              "      <th id=\"T_8c5e0_level0_row6\" class=\"row_heading level0 row6\" >75%</th>\n",
              "      <td id=\"T_8c5e0_row6_col0\" class=\"data row6 col0\" >285832.000000</td>\n",
              "      <td id=\"T_8c5e0_row6_col1\" class=\"data row6 col1\" >49.000000</td>\n",
              "      <td id=\"T_8c5e0_row6_col2\" class=\"data row6 col2\" >1.000000</td>\n",
              "      <td id=\"T_8c5e0_row6_col3\" class=\"data row6 col3\" >35.000000</td>\n",
              "      <td id=\"T_8c5e0_row6_col4\" class=\"data row6 col4\" >1.000000</td>\n",
              "      <td id=\"T_8c5e0_row6_col5\" class=\"data row6 col5\" >39400.000000</td>\n",
              "      <td id=\"T_8c5e0_row6_col6\" class=\"data row6 col6\" >152.000000</td>\n",
              "      <td id=\"T_8c5e0_row6_col7\" class=\"data row6 col7\" >227.000000</td>\n",
              "      <td id=\"T_8c5e0_row6_col8\" class=\"data row6 col8\" >0.000000</td>\n",
              "    </tr>\n",
              "    <tr>\n",
              "      <th id=\"T_8c5e0_level0_row7\" class=\"row_heading level0 row7\" >max</th>\n",
              "      <td id=\"T_8c5e0_row7_col0\" class=\"data row7 col0\" >381109.000000</td>\n",
              "      <td id=\"T_8c5e0_row7_col1\" class=\"data row7 col1\" >85.000000</td>\n",
              "      <td id=\"T_8c5e0_row7_col2\" class=\"data row7 col2\" >1.000000</td>\n",
              "      <td id=\"T_8c5e0_row7_col3\" class=\"data row7 col3\" >52.000000</td>\n",
              "      <td id=\"T_8c5e0_row7_col4\" class=\"data row7 col4\" >1.000000</td>\n",
              "      <td id=\"T_8c5e0_row7_col5\" class=\"data row7 col5\" >540165.000000</td>\n",
              "      <td id=\"T_8c5e0_row7_col6\" class=\"data row7 col6\" >163.000000</td>\n",
              "      <td id=\"T_8c5e0_row7_col7\" class=\"data row7 col7\" >299.000000</td>\n",
              "      <td id=\"T_8c5e0_row7_col8\" class=\"data row7 col8\" >1.000000</td>\n",
              "    </tr>\n",
              "  </tbody>\n",
              "</table>\n"
            ]
          },
          "metadata": {},
          "execution_count": 15
        }
      ],
      "source": [
        "# Dataset Describe\n",
        "df.describe().style.background_gradient()"
      ]
    },
    {
      "cell_type": "code",
      "execution_count": null,
      "metadata": {
        "colab": {
          "base_uri": "https://localhost:8080/",
          "height": 175
        },
        "id": "fujgAClr-qFS",
        "outputId": "5b3aa07f-d5b1-436f-c44c-0cecf990bc43"
      },
      "outputs": [
        {
          "output_type": "execute_result",
          "data": {
            "text/plain": [
              "        Gender Vehicle_Age Vehicle_Damage\n",
              "count   381109      381109         381109\n",
              "unique       2           3              2\n",
              "top       Male    1-2 Year            Yes\n",
              "freq    206089      200316         192413"
            ],
            "text/html": [
              "\n",
              "  <div id=\"df-c90b9187-d6bd-4f83-912f-fa8b54b55813\">\n",
              "    <div class=\"colab-df-container\">\n",
              "      <div>\n",
              "<style scoped>\n",
              "    .dataframe tbody tr th:only-of-type {\n",
              "        vertical-align: middle;\n",
              "    }\n",
              "\n",
              "    .dataframe tbody tr th {\n",
              "        vertical-align: top;\n",
              "    }\n",
              "\n",
              "    .dataframe thead th {\n",
              "        text-align: right;\n",
              "    }\n",
              "</style>\n",
              "<table border=\"1\" class=\"dataframe\">\n",
              "  <thead>\n",
              "    <tr style=\"text-align: right;\">\n",
              "      <th></th>\n",
              "      <th>Gender</th>\n",
              "      <th>Vehicle_Age</th>\n",
              "      <th>Vehicle_Damage</th>\n",
              "    </tr>\n",
              "  </thead>\n",
              "  <tbody>\n",
              "    <tr>\n",
              "      <th>count</th>\n",
              "      <td>381109</td>\n",
              "      <td>381109</td>\n",
              "      <td>381109</td>\n",
              "    </tr>\n",
              "    <tr>\n",
              "      <th>unique</th>\n",
              "      <td>2</td>\n",
              "      <td>3</td>\n",
              "      <td>2</td>\n",
              "    </tr>\n",
              "    <tr>\n",
              "      <th>top</th>\n",
              "      <td>Male</td>\n",
              "      <td>1-2 Year</td>\n",
              "      <td>Yes</td>\n",
              "    </tr>\n",
              "    <tr>\n",
              "      <th>freq</th>\n",
              "      <td>206089</td>\n",
              "      <td>200316</td>\n",
              "      <td>192413</td>\n",
              "    </tr>\n",
              "  </tbody>\n",
              "</table>\n",
              "</div>\n",
              "      <button class=\"colab-df-convert\" onclick=\"convertToInteractive('df-c90b9187-d6bd-4f83-912f-fa8b54b55813')\"\n",
              "              title=\"Convert this dataframe to an interactive table.\"\n",
              "              style=\"display:none;\">\n",
              "        \n",
              "  <svg xmlns=\"http://www.w3.org/2000/svg\" height=\"24px\"viewBox=\"0 0 24 24\"\n",
              "       width=\"24px\">\n",
              "    <path d=\"M0 0h24v24H0V0z\" fill=\"none\"/>\n",
              "    <path d=\"M18.56 5.44l.94 2.06.94-2.06 2.06-.94-2.06-.94-.94-2.06-.94 2.06-2.06.94zm-11 1L8.5 8.5l.94-2.06 2.06-.94-2.06-.94L8.5 2.5l-.94 2.06-2.06.94zm10 10l.94 2.06.94-2.06 2.06-.94-2.06-.94-.94-2.06-.94 2.06-2.06.94z\"/><path d=\"M17.41 7.96l-1.37-1.37c-.4-.4-.92-.59-1.43-.59-.52 0-1.04.2-1.43.59L10.3 9.45l-7.72 7.72c-.78.78-.78 2.05 0 2.83L4 21.41c.39.39.9.59 1.41.59.51 0 1.02-.2 1.41-.59l7.78-7.78 2.81-2.81c.8-.78.8-2.07 0-2.86zM5.41 20L4 18.59l7.72-7.72 1.47 1.35L5.41 20z\"/>\n",
              "  </svg>\n",
              "      </button>\n",
              "      \n",
              "  <style>\n",
              "    .colab-df-container {\n",
              "      display:flex;\n",
              "      flex-wrap:wrap;\n",
              "      gap: 12px;\n",
              "    }\n",
              "\n",
              "    .colab-df-convert {\n",
              "      background-color: #E8F0FE;\n",
              "      border: none;\n",
              "      border-radius: 50%;\n",
              "      cursor: pointer;\n",
              "      display: none;\n",
              "      fill: #1967D2;\n",
              "      height: 32px;\n",
              "      padding: 0 0 0 0;\n",
              "      width: 32px;\n",
              "    }\n",
              "\n",
              "    .colab-df-convert:hover {\n",
              "      background-color: #E2EBFA;\n",
              "      box-shadow: 0px 1px 2px rgba(60, 64, 67, 0.3), 0px 1px 3px 1px rgba(60, 64, 67, 0.15);\n",
              "      fill: #174EA6;\n",
              "    }\n",
              "\n",
              "    [theme=dark] .colab-df-convert {\n",
              "      background-color: #3B4455;\n",
              "      fill: #D2E3FC;\n",
              "    }\n",
              "\n",
              "    [theme=dark] .colab-df-convert:hover {\n",
              "      background-color: #434B5C;\n",
              "      box-shadow: 0px 1px 3px 1px rgba(0, 0, 0, 0.15);\n",
              "      filter: drop-shadow(0px 1px 2px rgba(0, 0, 0, 0.3));\n",
              "      fill: #FFFFFF;\n",
              "    }\n",
              "  </style>\n",
              "\n",
              "      <script>\n",
              "        const buttonEl =\n",
              "          document.querySelector('#df-c90b9187-d6bd-4f83-912f-fa8b54b55813 button.colab-df-convert');\n",
              "        buttonEl.style.display =\n",
              "          google.colab.kernel.accessAllowed ? 'block' : 'none';\n",
              "\n",
              "        async function convertToInteractive(key) {\n",
              "          const element = document.querySelector('#df-c90b9187-d6bd-4f83-912f-fa8b54b55813');\n",
              "          const dataTable =\n",
              "            await google.colab.kernel.invokeFunction('convertToInteractive',\n",
              "                                                     [key], {});\n",
              "          if (!dataTable) return;\n",
              "\n",
              "          const docLinkHtml = 'Like what you see? Visit the ' +\n",
              "            '<a target=\"_blank\" href=https://colab.research.google.com/notebooks/data_table.ipynb>data table notebook</a>'\n",
              "            + ' to learn more about interactive tables.';\n",
              "          element.innerHTML = '';\n",
              "          dataTable['output_type'] = 'display_data';\n",
              "          await google.colab.output.renderOutput(dataTable, element);\n",
              "          const docLink = document.createElement('div');\n",
              "          docLink.innerHTML = docLinkHtml;\n",
              "          element.appendChild(docLink);\n",
              "        }\n",
              "      </script>\n",
              "    </div>\n",
              "  </div>\n",
              "  "
            ]
          },
          "metadata": {},
          "execution_count": 16
        }
      ],
      "source": [
        "# describing the data for categoical features\n",
        "df.describe(include = 'object')"
      ]
    },
    {
      "cell_type": "markdown",
      "metadata": {
        "id": "PBTbrJXOngz2"
      },
      "source": [
        "#**Variables Description**"
      ]
    },
    {
      "cell_type": "markdown",
      "metadata": {
        "id": "aJV4KIxSnxay"
      },
      "source": [
        "\n",
        "#id :\tUnique ID for the customer\n",
        "\n",
        "#2. Gender\t: Gender of the customer\n",
        "\n",
        "#3. Age :\tAge of the customer\n",
        "\n",
        "#4. Driving_License\t0 : Customer does not have DL, 1 : Customer already has DL\n",
        "\n",
        "#5. Region_Code :\tUnique code for the region of the customer\n",
        "\n",
        "#6. Previously_Insured\t: 1 : Customer already has Vehicle Insurance, 0 : Customer doesn't have Vehicle Insurance\n",
        "\n",
        "#7. Vehicle_Age :\tAge of the Vehicle\n",
        "\n",
        "#8. Vehicle_Damage\t :1 : Customer got his/her vehicle damaged in the past. 0 : Customer didn't get his/her vehicle damaged in the past.\n",
        "\n",
        "#9. Annual_Premium\t: The amount customer needs to pay as premium in the year\n",
        "\n",
        "#10. PolicySalesChannel :\tAnonymized Code for the channel of outreaching to the customer ie. Different Agents, Over Mail, Over Phone, In Person,etc.\n",
        "\n",
        "#11. Vintage :\tNumber of Days, Customer has been associated with the company\n",
        "\n",
        "#12. Response :\t1 : Customer is interested, 0 : Customer is not interested"
      ]
    },
    {
      "cell_type": "markdown",
      "metadata": {
        "id": "u3PMJOP6ngxN"
      },
      "source": [
        "### Check Unique Values for each variable."
      ]
    },
    {
      "cell_type": "code",
      "execution_count": null,
      "metadata": {
        "colab": {
          "base_uri": "https://localhost:8080/"
        },
        "id": "zms12Yq5n-jE",
        "outputId": "c204411a-bab8-48ca-922a-cfd9196dec5b"
      },
      "outputs": [
        {
          "output_type": "execute_result",
          "data": {
            "text/plain": [
              "id                      381109\n",
              "Gender                       2\n",
              "Age                         66\n",
              "Driving_License              2\n",
              "Region_Code                 53\n",
              "Previously_Insured           2\n",
              "Vehicle_Age                  3\n",
              "Vehicle_Damage               2\n",
              "Annual_Premium           48838\n",
              "Policy_Sales_Channel       155\n",
              "Vintage                    290\n",
              "Response                     2\n",
              "dtype: int64"
            ]
          },
          "metadata": {},
          "execution_count": 17
        }
      ],
      "source": [
        "# checking for unique value in each column\n",
        "df.nunique()"
      ]
    },
    {
      "cell_type": "markdown",
      "metadata": {
        "id": "dauF4eBmngu3"
      },
      "source": [
        "## 3. ***Data Wrangling***"
      ]
    },
    {
      "cell_type": "markdown",
      "metadata": {
        "id": "bKJF3rekwFvQ"
      },
      "source": [
        "### Data Wrangling Code"
      ]
    },
    {
      "cell_type": "markdown",
      "metadata": {
        "id": "MSa1f5Uengrz"
      },
      "source": [
        "### What all manipulations have you done and insights you found?"
      ]
    },
    {
      "cell_type": "markdown",
      "metadata": {
        "id": "LbyXE7I1olp8"
      },
      "source": [
        "Answer Here."
      ]
    },
    {
      "cell_type": "markdown",
      "metadata": {
        "id": "GF8Ens_Soomf"
      },
      "source": [
        "## ***4. Data Vizualization, Storytelling & Experimenting with charts : Understand the relationships between variables***"
      ]
    },
    {
      "cell_type": "markdown",
      "metadata": {
        "id": "ops8G8IkkLGr"
      },
      "source": [
        "# **Exploratory Data Analysis**\n",
        "\n",
        "In this section, we will explore each feature in-depth, and hence this section is named EDA (Exploratory Data Analysis). This section will be helpful to understand the trend in features also we will be dealing with bi-variate analysis to understand what values are leading to success and failure. In order to visualize the data trends and distributions, we will be using matplotlib and seaborn libraries which will allow us to plot various plots for our data visualization."
      ]
    },
    {
      "cell_type": "markdown",
      "metadata": {
        "id": "0wOQAZs5pc--"
      },
      "source": [
        "#### Chart - 1"
      ]
    },
    {
      "cell_type": "code",
      "execution_count": null,
      "metadata": {
        "colab": {
          "base_uri": "https://localhost:8080/",
          "height": 493
        },
        "id": "7v_ESjsspbW7",
        "outputId": "301fb554-ac52-4904-a239-b2b27f8db8ab"
      },
      "outputs": [
        {
          "output_type": "execute_result",
          "data": {
            "text/plain": [
              "0    334399\n",
              "1     46710\n",
              "Name: Response, dtype: int64"
            ]
          },
          "metadata": {},
          "execution_count": 18
        },
        {
          "output_type": "display_data",
          "data": {
            "text/plain": [
              "<Figure size 1008x432 with 2 Axes>"
            ],
            "image/png": "[encoded data removed]"
          },
          "metadata": {
            "needs_background": "light"
          }
        }
      ],
      "source": [
        "# Chart - 1 visualization code\n",
        "# Let's start with the taget feature i.e response column\n",
        "# Exploring Response using pie plot and barplot\n",
        "\n",
        "# creating two figures in a row for the visualization\n",
        "fig , axes  = plt.subplots(1,2,figsize = (14,6 ))\n",
        "\n",
        "# Plotting Pie plot to check the Response distribution percent wise\n",
        "df['Response'].value_counts().plot.pie( autopct = '%.1f%%', explode = [0.04,0.04], startangle = 65, cmap = 'Accent', ax = axes[0])\n",
        "axes[0].set_title('Percentage of each Response')\n",
        "\n",
        "# plotting count plot for Response\n",
        "sns.countplot(data = df , x = 'Response', palette = 'viridis', ax =  axes[1])\n",
        "axes[1].set_title('count for each Response')\n",
        "\n",
        "\n",
        "plt.tight_layout()\n",
        "\n",
        "df['Response'].value_counts()"
      ]
    },
    {
      "cell_type": "markdown",
      "metadata": {
        "id": "K5QZ13OEpz2H"
      },
      "source": [
        "##### 1. Why did you pick the specific chart?"
      ]
    },
    {
      "cell_type": "markdown",
      "metadata": {
        "id": "XESiWehPqBRc"
      },
      "source": [
        "Answer Here."
      ]
    },
    {
      "cell_type": "markdown",
      "metadata": {
        "id": "lQ7QKXXCp7Bj"
      },
      "source": [
        "##### 2. What is/are the insight(s) found from the chart?"
      ]
    },
    {
      "cell_type": "markdown",
      "metadata": {
        "id": "C_j1G7yiqdRP"
      },
      "source": [
        "Answer Here"
      ]
    },
    {
      "cell_type": "markdown",
      "metadata": {
        "id": "448CDAPjqfQr"
      },
      "source": [
        "##### 3. Will the gained insights help creating a positive business impact? \n",
        "Are there any insights that lead to negative growth? Justify with specific reason."
      ]
    },
    {
      "cell_type": "markdown",
      "metadata": {
        "id": "3cspy4FjqxJW"
      },
      "source": [
        "Answer Here"
      ]
    },
    {
      "cell_type": "markdown",
      "metadata": {
        "id": "KSlN3yHqYklG"
      },
      "source": [
        "#### Chart - 2"
      ]
    },
    {
      "cell_type": "markdown",
      "metadata": {
        "id": "IVtHmGUKkyl4"
      },
      "source": [
        "###  Analysis on Gender\n",
        "\n",
        "\n",
        "\n",
        "\n"
      ]
    },
    {
      "cell_type": "code",
      "execution_count": null,
      "metadata": {
        "colab": {
          "base_uri": "https://localhost:8080/",
          "height": 493
        },
        "id": "R4YgtaqtYklH",
        "outputId": "5a889012-0f06-4f48-b552-d7476d073be2"
      },
      "outputs": [
        {
          "output_type": "execute_result",
          "data": {
            "text/plain": [
              "Male      206089\n",
              "Female    175020\n",
              "Name: Gender, dtype: int64"
            ]
          },
          "metadata": {},
          "execution_count": 19
        },
        {
          "output_type": "display_data",
          "data": {
            "text/plain": [
              "<Figure size 1008x432 with 2 Axes>"
            ],
            "image/png": "[encoded data removed]"
          },
          "metadata": {
            "needs_background": "light"
          }
        }
      ],
      "source": [
        "# Chart - 2 visualization code\n",
        "# Exploring Gender using pie plot and barplot\n",
        "\n",
        "# creating two figures in a row for the visualization\n",
        "fig , axes  = plt.subplots(1,2,figsize = (14,6 ))\n",
        "\n",
        "# Plotting Pie plot to check the gender distribution percent wise\n",
        "df['Gender'].value_counts().plot.pie( autopct = '%.1f%%', explode = [0.04,0.04], startangle = 110, cmap = 'Paired_r', ax = axes[0])\n",
        "axes[0].set_title('Percentage of each gender')\n",
        "\n",
        "# plotting count plot for gender\n",
        "sns.countplot(data = df , x = 'Gender', palette = 'Paired', ax =  axes[1])\n",
        "axes[1].set_title('count for each gender')\n",
        "\n",
        "\n",
        "plt.tight_layout()\n",
        "\n",
        "df['Gender'].value_counts()"
      ]
    },
    {
      "cell_type": "markdown",
      "metadata": {
        "id": "t6dVpIINYklI"
      },
      "source": [
        "##### 1. Why did you pick the specific chart?"
      ]
    },
    {
      "cell_type": "markdown",
      "metadata": {
        "id": "5aaW0BYyYklI"
      },
      "source": [
        "Answer Here."
      ]
    },
    {
      "cell_type": "markdown",
      "metadata": {
        "id": "ijmpgYnKYklI"
      },
      "source": [
        "##### 2. What is/are the insight(s) found from the chart?"
      ]
    },
    {
      "cell_type": "markdown",
      "metadata": {
        "id": "PSx9atu2YklI"
      },
      "source": [
        "Answer Here"
      ]
    },
    {
      "cell_type": "markdown",
      "metadata": {
        "id": "-JiQyfWJYklI"
      },
      "source": [
        "##### 3. Will the gained insights help creating a positive business impact? \n",
        "Are there any insights that lead to negative growth? Justify with specific reason."
      ]
    },
    {
      "cell_type": "markdown",
      "metadata": {
        "id": "BcBbebzrYklV"
      },
      "source": [
        "Answer Here"
      ]
    },
    {
      "cell_type": "markdown",
      "metadata": {
        "id": "EM7whBJCYoAo"
      },
      "source": [
        "#### Chart - 3"
      ]
    },
    {
      "cell_type": "markdown",
      "metadata": {
        "id": "fod5fe84lkgI"
      },
      "source": [
        "# **Age**"
      ]
    },
    {
      "cell_type": "code",
      "execution_count": null,
      "metadata": {
        "colab": {
          "base_uri": "https://localhost:8080/",
          "height": 421
        },
        "id": "t6GMdE67YoAp",
        "outputId": "d2650328-5aed-4c5f-c5d3-5b0991b68ad1"
      },
      "outputs": [
        {
          "output_type": "display_data",
          "data": {
            "text/plain": [
              "<Figure size 1152x432 with 2 Axes>"
            ],
            "image/png": "[encoded data removed]"
          },
          "metadata": {
            "needs_background": "light"
          }
        },
        {
          "output_type": "display_data",
          "data": {
            "text/plain": [
              "<Figure size 432x288 with 0 Axes>"
            ]
          },
          "metadata": {}
        }
      ],
      "source": [
        "# Chart - 3 visualization code\n",
        "# understanding the Age feature distribution and it's effect on success/failure of insurance conversion \n",
        "\n",
        "# Defining the figure using subplots for two plots in one row\n",
        "fig, axes = plt.subplots( 1,2 , figsize = (16,6))\n",
        "\n",
        "# plotting distplot for Age column\n",
        "sns.distplot( x= df['Age'], color= 'g', ax =axes[0])\n",
        "axes[0].set_title('Age distribution')\n",
        "axes[0].set_xlabel('Age')\n",
        "\n",
        "# plotting distplot for Age and analyzing the effect on success/failure of insurance conversion\n",
        "sns.distplot( x= df['Age'], color= 'r', ax =axes[1])\n",
        "sns.distplot( x= df.Age[df['Response'] == 1], color= 'b', ax =axes[1])\n",
        "axes[1].set_title('Age distribution Vs Response')\n",
        "axes[1].set_xlabel('Age')\n",
        "\n",
        "plt.show()\n",
        "plt.tight_layout()"
      ]
    },
    {
      "cell_type": "markdown",
      "metadata": {
        "id": "fge-S5ZAYoAp"
      },
      "source": [
        "##### 1. Why did you pick the specific chart?"
      ]
    },
    {
      "cell_type": "markdown",
      "metadata": {
        "id": "5dBItgRVYoAp"
      },
      "source": [
        "Answer Here."
      ]
    },
    {
      "cell_type": "markdown",
      "metadata": {
        "id": "85gYPyotYoAp"
      },
      "source": [
        "##### 2. What is/are the insight(s) found from the chart?"
      ]
    },
    {
      "cell_type": "markdown",
      "metadata": {
        "id": "4jstXR6OYoAp"
      },
      "source": [
        "Answer Here"
      ]
    },
    {
      "cell_type": "markdown",
      "metadata": {
        "id": "RoGjAbkUYoAp"
      },
      "source": [
        "##### 3. Will the gained insights help creating a positive business impact? \n",
        "Are there any insights that lead to negative growth? Justify with specific reason."
      ]
    },
    {
      "cell_type": "markdown",
      "metadata": {
        "id": "zfJ8IqMcYoAp"
      },
      "source": [
        "Answer Here"
      ]
    },
    {
      "cell_type": "markdown",
      "metadata": {
        "id": "4Of9eVA-YrdM"
      },
      "source": [
        "#### Chart - 4"
      ]
    },
    {
      "cell_type": "markdown",
      "metadata": {
        "id": "KHSAAF5Tl3Z4"
      },
      "source": [
        "# **Region code**"
      ]
    },
    {
      "cell_type": "code",
      "execution_count": null,
      "metadata": {
        "colab": {
          "base_uri": "https://localhost:8080/"
        },
        "id": "irlUoxc8YrdO",
        "outputId": "83b34fdb-0eec-4bff-d4b8-626f89594a58"
      },
      "outputs": [
        {
          "output_type": "execute_result",
          "data": {
            "text/plain": [
              "52.0"
            ]
          },
          "metadata": {},
          "execution_count": 21
        }
      ],
      "source": [
        "# Chart - 4 visualization code\n",
        "# checking for numerically max value for region code\n",
        "df['Region_Code'].max()"
      ]
    },
    {
      "cell_type": "code",
      "execution_count": null,
      "metadata": {
        "colab": {
          "base_uri": "https://localhost:8080/",
          "height": 351
        },
        "id": "BVTzx_YsmKHy",
        "outputId": "72205b41-4838-41f8-9b72-79a9ed40ad29"
      },
      "outputs": [
        {
          "output_type": "display_data",
          "data": {
            "text/plain": [
              "<Figure size 1080x360 with 1 Axes>"
            ],
            "image/png": "[encoded data removed]"
          },
          "metadata": {
            "needs_background": "light"
          }
        }
      ],
      "source": [
        "# Analyzing region code feature and it's effect on response feature\n",
        "\n",
        "# defining the figure for visualization\n",
        "plt.figure(figsize = (15,5))\n",
        "\n",
        "# no. of ticks on plot along x Axis\n",
        "ticks = list(range(1,53))\n",
        "\n",
        "# converting the datatype from flaot to int\n",
        "df['Region_Code'] = df['Region_Code'].astype(int) \n",
        "\n",
        "# Plotting the reason code and it's effect on response in same plot\n",
        "sns.histplot( x= df['Region_Code'], color = 'c', bins =52)\n",
        "sns.histplot( x= df['Region_Code'][df['Response'] ==1 ],  color = 'r', bins =52)\n",
        "\n",
        "plt.ylim(0,5000)\n",
        "plt.xticks(ticks)\n",
        "plt.title('Region Code Vs response')\n",
        "plt.show()\n",
        "\n"
      ]
    },
    {
      "cell_type": "code",
      "execution_count": null,
      "metadata": {
        "colab": {
          "base_uri": "https://localhost:8080/"
        },
        "id": "Vh9yz4hkmM5J",
        "outputId": "a7502fa8-982e-4b17-b6ef-1165e2d51ee6"
      },
      "outputs": [
        {
          "output_type": "execute_result",
          "data": {
            "text/plain": [
              "1    380297\n",
              "0       812\n",
              "Name: Driving_License, dtype: int64"
            ]
          },
          "metadata": {},
          "execution_count": 23
        }
      ],
      "source": [
        "# checking counts for DL\n",
        "df['Driving_License'].value_counts()\n",
        "\n"
      ]
    },
    {
      "cell_type": "markdown",
      "metadata": {
        "id": "iky9q4vBYrdO"
      },
      "source": [
        "##### 1. Why did you pick the specific chart?"
      ]
    },
    {
      "cell_type": "markdown",
      "metadata": {
        "id": "aJRCwT6DYrdO"
      },
      "source": [
        "Answer Here."
      ]
    },
    {
      "cell_type": "markdown",
      "metadata": {
        "id": "F6T5p64dYrdO"
      },
      "source": [
        "##### 2. What is/are the insight(s) found from the chart?"
      ]
    },
    {
      "cell_type": "markdown",
      "metadata": {
        "id": "Xx8WAJvtYrdO"
      },
      "source": [
        "Answer Here"
      ]
    },
    {
      "cell_type": "markdown",
      "metadata": {
        "id": "y-Ehk30pYrdP"
      },
      "source": [
        "##### 3. Will the gained insights help creating a positive business impact? \n",
        "Are there any insights that lead to negative growth? Justify with specific reason."
      ]
    },
    {
      "cell_type": "markdown",
      "metadata": {
        "id": "jLNxxz7MYrdP"
      },
      "source": [
        "Answer Here"
      ]
    },
    {
      "cell_type": "markdown",
      "metadata": {
        "id": "bamQiAODYuh1"
      },
      "source": [
        "#### Chart - 5"
      ]
    },
    {
      "cell_type": "markdown",
      "metadata": {
        "id": "3oSeK9ZdmUON"
      },
      "source": [
        "# **Vehicle age**"
      ]
    },
    {
      "cell_type": "code",
      "execution_count": null,
      "metadata": {
        "colab": {
          "base_uri": "https://localhost:8080/",
          "height": 441
        },
        "id": "TIJwrbroYuh3",
        "outputId": "7e09e52d-378f-44d2-af0b-2a3a649492a0"
      },
      "outputs": [
        {
          "output_type": "display_data",
          "data": {
            "text/plain": [
              "<Figure size 1008x432 with 2 Axes>"
            ],
            "image/png": "[encoded data removed]"
          },
          "metadata": {
            "needs_background": "light"
          }
        }
      ],
      "source": [
        "# Chart - 5 visualization code\n",
        "# Analyzing Vehicle age distribution and it's effect on responses \n",
        "\n",
        "# defining the figures\n",
        "fig , axes  = plt.subplots(1,2,figsize = (14,6 ))\n",
        "\n",
        "# plotting pie chart on vehicle age distribution\n",
        "df['Vehicle_Age'].value_counts().plot.pie( autopct = '%.1f%%', explode = [0.04,0.04, 0.04], startangle = 110, cmap = 'Paired', ax = axes[0])\n",
        "axes[0].set_title('Vehicle disribution')\n",
        "\n",
        "# plotting count plot along with effect on response\n",
        "sns.histplot(data= df, x = 'Vehicle_Age', hue= df['Response'], palette='Paired_r')\n",
        "axes[0].set_title('Vehicle disribution VS Response')\n",
        "\n",
        "plt.tight_layout()\n",
        "plt.show()\n",
        "\n"
      ]
    },
    {
      "cell_type": "markdown",
      "metadata": {
        "id": "QHF8YVU7Yuh3"
      },
      "source": [
        "##### 1. Why did you pick the specific chart?"
      ]
    },
    {
      "cell_type": "markdown",
      "metadata": {
        "id": "dcxuIMRPYuh3"
      },
      "source": [
        "Answer Here."
      ]
    },
    {
      "cell_type": "markdown",
      "metadata": {
        "id": "GwzvFGzlYuh3"
      },
      "source": [
        "##### 2. What is/are the insight(s) found from the chart?"
      ]
    },
    {
      "cell_type": "markdown",
      "metadata": {
        "id": "uyqkiB8YYuh3"
      },
      "source": [
        "Answer Here"
      ]
    },
    {
      "cell_type": "markdown",
      "metadata": {
        "id": "qYpmQ266Yuh3"
      },
      "source": [
        "##### 3. Will the gained insights help creating a positive business impact? \n",
        "Are there any insights that lead to negative growth? Justify with specific reason."
      ]
    },
    {
      "cell_type": "markdown",
      "metadata": {
        "id": "_WtzZ_hCYuh4"
      },
      "source": [
        "Answer Here"
      ]
    },
    {
      "cell_type": "markdown",
      "metadata": {
        "id": "OH-pJp9IphqM"
      },
      "source": [
        "#### Chart - 6"
      ]
    },
    {
      "cell_type": "markdown",
      "metadata": {
        "id": "8FFLjlFDmniW"
      },
      "source": [
        "# **Vehicle damage**"
      ]
    },
    {
      "cell_type": "code",
      "execution_count": null,
      "metadata": {
        "colab": {
          "base_uri": "https://localhost:8080/",
          "height": 446
        },
        "id": "kuRf4wtuphqN",
        "outputId": "3f99fada-f757-45cf-9f26-16b74277f061"
      },
      "outputs": [
        {
          "output_type": "execute_result",
          "data": {
            "text/plain": [
              "     Vehicle_Damage\n",
              "Yes          192413\n",
              "No           188696"
            ],
            "text/html": [
              "\n",
              "  <div id=\"df-9c3f90cf-c87f-46cc-ab65-ebf28047e6f1\">\n",
              "    <div class=\"colab-df-container\">\n",
              "      <div>\n",
              "<style scoped>\n",
              "    .dataframe tbody tr th:only-of-type {\n",
              "        vertical-align: middle;\n",
              "    }\n",
              "\n",
              "    .dataframe tbody tr th {\n",
              "        vertical-align: top;\n",
              "    }\n",
              "\n",
              "    .dataframe thead th {\n",
              "        text-align: right;\n",
              "    }\n",
              "</style>\n",
              "<table border=\"1\" class=\"dataframe\">\n",
              "  <thead>\n",
              "    <tr style=\"text-align: right;\">\n",
              "      <th></th>\n",
              "      <th>Vehicle_Damage</th>\n",
              "    </tr>\n",
              "  </thead>\n",
              "  <tbody>\n",
              "    <tr>\n",
              "      <th>Yes</th>\n",
              "      <td>192413</td>\n",
              "    </tr>\n",
              "    <tr>\n",
              "      <th>No</th>\n",
              "      <td>188696</td>\n",
              "    </tr>\n",
              "  </tbody>\n",
              "</table>\n",
              "</div>\n",
              "      <button class=\"colab-df-convert\" onclick=\"convertToInteractive('df-9c3f90cf-c87f-46cc-ab65-ebf28047e6f1')\"\n",
              "              title=\"Convert this dataframe to an interactive table.\"\n",
              "              style=\"display:none;\">\n",
              "        \n",
              "  <svg xmlns=\"http://www.w3.org/2000/svg\" height=\"24px\"viewBox=\"0 0 24 24\"\n",
              "       width=\"24px\">\n",
              "    <path d=\"M0 0h24v24H0V0z\" fill=\"none\"/>\n",
              "    <path d=\"M18.56 5.44l.94 2.06.94-2.06 2.06-.94-2.06-.94-.94-2.06-.94 2.06-2.06.94zm-11 1L8.5 8.5l.94-2.06 2.06-.94-2.06-.94L8.5 2.5l-.94 2.06-2.06.94zm10 10l.94 2.06.94-2.06 2.06-.94-2.06-.94-.94-2.06-.94 2.06-2.06.94z\"/><path d=\"M17.41 7.96l-1.37-1.37c-.4-.4-.92-.59-1.43-.59-.52 0-1.04.2-1.43.59L10.3 9.45l-7.72 7.72c-.78.78-.78 2.05 0 2.83L4 21.41c.39.39.9.59 1.41.59.51 0 1.02-.2 1.41-.59l7.78-7.78 2.81-2.81c.8-.78.8-2.07 0-2.86zM5.41 20L4 18.59l7.72-7.72 1.47 1.35L5.41 20z\"/>\n",
              "  </svg>\n",
              "      </button>\n",
              "      \n",
              "  <style>\n",
              "    .colab-df-container {\n",
              "      display:flex;\n",
              "      flex-wrap:wrap;\n",
              "      gap: 12px;\n",
              "    }\n",
              "\n",
              "    .colab-df-convert {\n",
              "      background-color: #E8F0FE;\n",
              "      border: none;\n",
              "      border-radius: 50%;\n",
              "      cursor: pointer;\n",
              "      display: none;\n",
              "      fill: #1967D2;\n",
              "      height: 32px;\n",
              "      padding: 0 0 0 0;\n",
              "      width: 32px;\n",
              "    }\n",
              "\n",
              "    .colab-df-convert:hover {\n",
              "      background-color: #E2EBFA;\n",
              "      box-shadow: 0px 1px 2px rgba(60, 64, 67, 0.3), 0px 1px 3px 1px rgba(60, 64, 67, 0.15);\n",
              "      fill: #174EA6;\n",
              "    }\n",
              "\n",
              "    [theme=dark] .colab-df-convert {\n",
              "      background-color: #3B4455;\n",
              "      fill: #D2E3FC;\n",
              "    }\n",
              "\n",
              "    [theme=dark] .colab-df-convert:hover {\n",
              "      background-color: #434B5C;\n",
              "      box-shadow: 0px 1px 3px 1px rgba(0, 0, 0, 0.15);\n",
              "      filter: drop-shadow(0px 1px 2px rgba(0, 0, 0, 0.3));\n",
              "      fill: #FFFFFF;\n",
              "    }\n",
              "  </style>\n",
              "\n",
              "      <script>\n",
              "        const buttonEl =\n",
              "          document.querySelector('#df-9c3f90cf-c87f-46cc-ab65-ebf28047e6f1 button.colab-df-convert');\n",
              "        buttonEl.style.display =\n",
              "          google.colab.kernel.accessAllowed ? 'block' : 'none';\n",
              "\n",
              "        async function convertToInteractive(key) {\n",
              "          const element = document.querySelector('#df-9c3f90cf-c87f-46cc-ab65-ebf28047e6f1');\n",
              "          const dataTable =\n",
              "            await google.colab.kernel.invokeFunction('convertToInteractive',\n",
              "                                                     [key], {});\n",
              "          if (!dataTable) return;\n",
              "\n",
              "          const docLinkHtml = 'Like what you see? Visit the ' +\n",
              "            '<a target=\"_blank\" href=https://colab.research.google.com/notebooks/data_table.ipynb>data table notebook</a>'\n",
              "            + ' to learn more about interactive tables.';\n",
              "          element.innerHTML = '';\n",
              "          dataTable['output_type'] = 'display_data';\n",
              "          await google.colab.output.renderOutput(dataTable, element);\n",
              "          const docLink = document.createElement('div');\n",
              "          docLink.innerHTML = docLinkHtml;\n",
              "          element.appendChild(docLink);\n",
              "        }\n",
              "      </script>\n",
              "    </div>\n",
              "  </div>\n",
              "  "
            ]
          },
          "metadata": {},
          "execution_count": 25
        },
        {
          "output_type": "display_data",
          "data": {
            "text/plain": [
              "<Figure size 432x360 with 1 Axes>"
            ],
            "image/png": "[encoded data removed]"
          },
          "metadata": {
            "needs_background": "light"
          }
        }
      ],
      "source": [
        "# Chart - 6 visualization code\n",
        "# Analysis on Vehicle damage and effect on response\n",
        "plt.figure(figsize= (6,5))\n",
        "sns.histplot(data = df, x= 'Vehicle_Damage', hue= df['Response'], palette = 'CMRmap_r')\n",
        "plt.title('Vehicle Damage VS Response')\n",
        "\n",
        "pd.DataFrame(df.groupby('Vehicle_Damage')['Response'].sum())\n",
        "pd.DataFrame(df['Vehicle_Damage'].value_counts())"
      ]
    },
    {
      "cell_type": "markdown",
      "metadata": {
        "id": "bbFf2-_FphqN"
      },
      "source": [
        "##### 1. Why did you pick the specific chart?"
      ]
    },
    {
      "cell_type": "markdown",
      "metadata": {
        "id": "loh7H2nzphqN"
      },
      "source": [
        "Answer Here."
      ]
    },
    {
      "cell_type": "markdown",
      "metadata": {
        "id": "_ouA3fa0phqN"
      },
      "source": [
        "##### 2. What is/are the insight(s) found from the chart?"
      ]
    },
    {
      "cell_type": "markdown",
      "metadata": {
        "id": "VECbqPI7phqN"
      },
      "source": [
        "Answer Here"
      ]
    },
    {
      "cell_type": "markdown",
      "metadata": {
        "id": "Seke61FWphqN"
      },
      "source": [
        "##### 3. Will the gained insights help creating a positive business impact? \n",
        "Are there any insights that lead to negative growth? Justify with specific reason."
      ]
    },
    {
      "cell_type": "markdown",
      "metadata": {
        "id": "DW4_bGpfphqN"
      },
      "source": [
        "Answer Here"
      ]
    },
    {
      "cell_type": "markdown",
      "metadata": {
        "id": "PIIx-8_IphqN"
      },
      "source": [
        "#### Chart - 7"
      ]
    },
    {
      "cell_type": "markdown",
      "metadata": {
        "id": "152NWckOm3Jz"
      },
      "source": [
        "# **Annual premium**"
      ]
    },
    {
      "cell_type": "code",
      "execution_count": null,
      "metadata": {
        "colab": {
          "base_uri": "https://localhost:8080/",
          "height": 748
        },
        "id": "lqAIGUfyphqO",
        "outputId": "19ebd4d2-6abc-470b-f835-ccd45e2510b0"
      },
      "outputs": [
        {
          "output_type": "execute_result",
          "data": {
            "text/plain": [
              "Text(0.5, 1.0, 'Annual premium vs response')"
            ]
          },
          "metadata": {},
          "execution_count": 26
        },
        {
          "output_type": "display_data",
          "data": {
            "text/plain": [
              "<Figure size 1080x864 with 2 Axes>"
            ],
            "image/png": "[encoded data removed]"
          },
          "metadata": {
            "needs_background": "light"
          }
        }
      ],
      "source": [
        "# Chart - 7 visualization code\n",
        "# Analysis on Annual distribution along with response relation with annual premium\n",
        "\n",
        "# defining figures\n",
        "fig, axes = plt.subplots(2,1, figsize =( 15,12))\n",
        "\n",
        "# plotting distplot for annual premium\n",
        "sns.distplot( x= df['Annual_Premium'], ax = axes[0], bins = 100)\n",
        "axes[0].set_title('Annual premium distribution')\n",
        "\n",
        "# plotting hist plot and response distribution \n",
        "sns.histplot( x= df['Annual_Premium'], ax = axes[1], bins = 200, kde = True)\n",
        "sns.histplot( x= df['Annual_Premium'][df['Response'] == 1], ax = axes[1], bins = 200, color = 'r', kde = True)\n",
        "axes[1].set_xlim(0,200000)\n",
        "axes[1].set_ylim(0,50000)\n",
        "axes[1].set_title('Annual premium vs response')"
      ]
    },
    {
      "cell_type": "markdown",
      "metadata": {
        "id": "t27r6nlMphqO"
      },
      "source": [
        "##### 1. Why did you pick the specific chart?"
      ]
    },
    {
      "cell_type": "markdown",
      "metadata": {
        "id": "iv6ro40sphqO"
      },
      "source": [
        "Answer Here."
      ]
    },
    {
      "cell_type": "markdown",
      "metadata": {
        "id": "r2jJGEOYphqO"
      },
      "source": [
        "##### 2. What is/are the insight(s) found from the chart?"
      ]
    },
    {
      "cell_type": "markdown",
      "metadata": {
        "id": "Po6ZPi4hphqO"
      },
      "source": [
        "Answer Here"
      ]
    },
    {
      "cell_type": "markdown",
      "metadata": {
        "id": "b0JNsNcRphqO"
      },
      "source": [
        "##### 3. Will the gained insights help creating a positive business impact? \n",
        "Are there any insights that lead to negative growth? Justify with specific reason."
      ]
    },
    {
      "cell_type": "markdown",
      "metadata": {
        "id": "xvSq8iUTphqO"
      },
      "source": [
        "Answer Here"
      ]
    },
    {
      "cell_type": "markdown",
      "metadata": {
        "id": "BZR9WyysphqO"
      },
      "source": [
        "#### Chart - 8"
      ]
    },
    {
      "cell_type": "markdown",
      "metadata": {
        "id": "m68hdLPhwvzF"
      },
      "source": [
        "# **Policy sales channel**"
      ]
    },
    {
      "cell_type": "code",
      "execution_count": null,
      "metadata": {
        "id": "TdPTWpAVphqO"
      },
      "outputs": [],
      "source": [
        "# Chart - 8 visualization code\n",
        "# converting the data type as int\n",
        "df['Policy_Sales_Channel'] = df['Policy_Sales_Channel'].astype(int)"
      ]
    },
    {
      "cell_type": "code",
      "execution_count": null,
      "metadata": {
        "colab": {
          "base_uri": "https://localhost:8080/",
          "height": 739
        },
        "id": "apGNvu-bw5Bo",
        "outputId": "8885e5a5-5eb1-458e-f937-7368d5374a38"
      },
      "outputs": [
        {
          "output_type": "display_data",
          "data": {
            "text/plain": [
              "<Figure size 1080x432 with 1 Axes>"
            ],
            "image/png": "[encoded data removed]"
          },
          "metadata": {
            "needs_background": "light"
          }
        },
        {
          "output_type": "execute_result",
          "data": {
            "text/plain": [
              "   Policy_Sales_Channel  Counts  Response_1\n",
              "0                   152  134784        3858\n",
              "1                    26   79700       15891\n",
              "2                   124   73995       13996\n",
              "3                   160   21779         475\n",
              "4                   156   10661        2297\n",
              "5                   122    9930        1720\n",
              "6                   157    6684        1794\n",
              "7                   154    5993        1474\n",
              "8                   151    3885         122\n",
              "9                   163    2893         880"
            ],
            "text/html": [
              "\n",
              "  <div id=\"df-577ff63a-e02e-460f-8038-b58ce877b3dc\">\n",
              "    <div class=\"colab-df-container\">\n",
              "      <div>\n",
              "<style scoped>\n",
              "    .dataframe tbody tr th:only-of-type {\n",
              "        vertical-align: middle;\n",
              "    }\n",
              "\n",
              "    .dataframe tbody tr th {\n",
              "        vertical-align: top;\n",
              "    }\n",
              "\n",
              "    .dataframe thead th {\n",
              "        text-align: right;\n",
              "    }\n",
              "</style>\n",
              "<table border=\"1\" class=\"dataframe\">\n",
              "  <thead>\n",
              "    <tr style=\"text-align: right;\">\n",
              "      <th></th>\n",
              "      <th>Policy_Sales_Channel</th>\n",
              "      <th>Counts</th>\n",
              "      <th>Response_1</th>\n",
              "    </tr>\n",
              "  </thead>\n",
              "  <tbody>\n",
              "    <tr>\n",
              "      <th>0</th>\n",
              "      <td>152</td>\n",
              "      <td>134784</td>\n",
              "      <td>3858</td>\n",
              "    </tr>\n",
              "    <tr>\n",
              "      <th>1</th>\n",
              "      <td>26</td>\n",
              "      <td>79700</td>\n",
              "      <td>15891</td>\n",
              "    </tr>\n",
              "    <tr>\n",
              "      <th>2</th>\n",
              "      <td>124</td>\n",
              "      <td>73995</td>\n",
              "      <td>13996</td>\n",
              "    </tr>\n",
              "    <tr>\n",
              "      <th>3</th>\n",
              "      <td>160</td>\n",
              "      <td>21779</td>\n",
              "      <td>475</td>\n",
              "    </tr>\n",
              "    <tr>\n",
              "      <th>4</th>\n",
              "      <td>156</td>\n",
              "      <td>10661</td>\n",
              "      <td>2297</td>\n",
              "    </tr>\n",
              "    <tr>\n",
              "      <th>5</th>\n",
              "      <td>122</td>\n",
              "      <td>9930</td>\n",
              "      <td>1720</td>\n",
              "    </tr>\n",
              "    <tr>\n",
              "      <th>6</th>\n",
              "      <td>157</td>\n",
              "      <td>6684</td>\n",
              "      <td>1794</td>\n",
              "    </tr>\n",
              "    <tr>\n",
              "      <th>7</th>\n",
              "      <td>154</td>\n",
              "      <td>5993</td>\n",
              "      <td>1474</td>\n",
              "    </tr>\n",
              "    <tr>\n",
              "      <th>8</th>\n",
              "      <td>151</td>\n",
              "      <td>3885</td>\n",
              "      <td>122</td>\n",
              "    </tr>\n",
              "    <tr>\n",
              "      <th>9</th>\n",
              "      <td>163</td>\n",
              "      <td>2893</td>\n",
              "      <td>880</td>\n",
              "    </tr>\n",
              "  </tbody>\n",
              "</table>\n",
              "</div>\n",
              "      <button class=\"colab-df-convert\" onclick=\"convertToInteractive('df-577ff63a-e02e-460f-8038-b58ce877b3dc')\"\n",
              "              title=\"Convert this dataframe to an interactive table.\"\n",
              "              style=\"display:none;\">\n",
              "        \n",
              "  <svg xmlns=\"http://www.w3.org/2000/svg\" height=\"24px\"viewBox=\"0 0 24 24\"\n",
              "       width=\"24px\">\n",
              "    <path d=\"M0 0h24v24H0V0z\" fill=\"none\"/>\n",
              "    <path d=\"M18.56 5.44l.94 2.06.94-2.06 2.06-.94-2.06-.94-.94-2.06-.94 2.06-2.06.94zm-11 1L8.5 8.5l.94-2.06 2.06-.94-2.06-.94L8.5 2.5l-.94 2.06-2.06.94zm10 10l.94 2.06.94-2.06 2.06-.94-2.06-.94-.94-2.06-.94 2.06-2.06.94z\"/><path d=\"M17.41 7.96l-1.37-1.37c-.4-.4-.92-.59-1.43-.59-.52 0-1.04.2-1.43.59L10.3 9.45l-7.72 7.72c-.78.78-.78 2.05 0 2.83L4 21.41c.39.39.9.59 1.41.59.51 0 1.02-.2 1.41-.59l7.78-7.78 2.81-2.81c.8-.78.8-2.07 0-2.86zM5.41 20L4 18.59l7.72-7.72 1.47 1.35L5.41 20z\"/>\n",
              "  </svg>\n",
              "      </button>\n",
              "      \n",
              "  <style>\n",
              "    .colab-df-container {\n",
              "      display:flex;\n",
              "      flex-wrap:wrap;\n",
              "      gap: 12px;\n",
              "    }\n",
              "\n",
              "    .colab-df-convert {\n",
              "      background-color: #E8F0FE;\n",
              "      border: none;\n",
              "      border-radius: 50%;\n",
              "      cursor: pointer;\n",
              "      display: none;\n",
              "      fill: #1967D2;\n",
              "      height: 32px;\n",
              "      padding: 0 0 0 0;\n",
              "      width: 32px;\n",
              "    }\n",
              "\n",
              "    .colab-df-convert:hover {\n",
              "      background-color: #E2EBFA;\n",
              "      box-shadow: 0px 1px 2px rgba(60, 64, 67, 0.3), 0px 1px 3px 1px rgba(60, 64, 67, 0.15);\n",
              "      fill: #174EA6;\n",
              "    }\n",
              "\n",
              "    [theme=dark] .colab-df-convert {\n",
              "      background-color: #3B4455;\n",
              "      fill: #D2E3FC;\n",
              "    }\n",
              "\n",
              "    [theme=dark] .colab-df-convert:hover {\n",
              "      background-color: #434B5C;\n",
              "      box-shadow: 0px 1px 3px 1px rgba(0, 0, 0, 0.15);\n",
              "      filter: drop-shadow(0px 1px 2px rgba(0, 0, 0, 0.3));\n",
              "      fill: #FFFFFF;\n",
              "    }\n",
              "  </style>\n",
              "\n",
              "      <script>\n",
              "        const buttonEl =\n",
              "          document.querySelector('#df-577ff63a-e02e-460f-8038-b58ce877b3dc button.colab-df-convert');\n",
              "        buttonEl.style.display =\n",
              "          google.colab.kernel.accessAllowed ? 'block' : 'none';\n",
              "\n",
              "        async function convertToInteractive(key) {\n",
              "          const element = document.querySelector('#df-577ff63a-e02e-460f-8038-b58ce877b3dc');\n",
              "          const dataTable =\n",
              "            await google.colab.kernel.invokeFunction('convertToInteractive',\n",
              "                                                     [key], {});\n",
              "          if (!dataTable) return;\n",
              "\n",
              "          const docLinkHtml = 'Like what you see? Visit the ' +\n",
              "            '<a target=\"_blank\" href=https://colab.research.google.com/notebooks/data_table.ipynb>data table notebook</a>'\n",
              "            + ' to learn more about interactive tables.';\n",
              "          element.innerHTML = '';\n",
              "          dataTable['output_type'] = 'display_data';\n",
              "          await google.colab.output.renderOutput(dataTable, element);\n",
              "          const docLink = document.createElement('div');\n",
              "          docLink.innerHTML = docLinkHtml;\n",
              "          element.appendChild(docLink);\n",
              "        }\n",
              "      </script>\n",
              "    </div>\n",
              "  </div>\n",
              "  "
            ]
          },
          "metadata": {},
          "execution_count": 28
        }
      ],
      "source": [
        "# plotting the relation between policy sales channel and responses\n",
        "plt.figure(figsize = ( 15, 6))\n",
        "\n",
        "# plotting the histogram plots for sales channel \n",
        "sns.histplot( x= df['Policy_Sales_Channel'], bins = 175)\n",
        "sns.histplot( x= df['Policy_Sales_Channel'][df['Response'] == 1], bins = 175, color = 'r')\n",
        "\n",
        "plt.ylim(0,50000)\n",
        "plt.show()\n",
        "\n",
        "\n",
        "# checking for the top 10 sales channel that produces the most no. of success \n",
        "sub_df1 = pd.DataFrame(df['Policy_Sales_Channel'].value_counts()).head(10).reset_index()\n",
        "sub_df2 = pd.DataFrame(df.groupby('Policy_Sales_Channel')['Response'].sum()).reset_index()\n",
        "sub_df2.rename(columns = {'Policy_Sales_Channel' : 'index'}, inplace = True)\n",
        "top_channels = pd.merge(sub_df1 , sub_df2, on = 'index', how = 'left')\n",
        "top_channels.rename(columns = {'index': 'Policy_Sales_Channel', 'Policy_Sales_Channel' : 'Counts', 'Response' : 'Response_1'  })\n"
      ]
    },
    {
      "cell_type": "markdown",
      "metadata": {
        "id": "jj7wYXLtphqO"
      },
      "source": [
        "##### 1. Why did you pick the specific chart?"
      ]
    },
    {
      "cell_type": "markdown",
      "metadata": {
        "id": "Ob8u6rCTphqO"
      },
      "source": [
        "Answer Here."
      ]
    },
    {
      "cell_type": "markdown",
      "metadata": {
        "id": "eZrbJ2SmphqO"
      },
      "source": [
        "##### 2. What is/are the insight(s) found from the chart?"
      ]
    },
    {
      "cell_type": "markdown",
      "metadata": {
        "id": "mZtgC_hjphqO"
      },
      "source": [
        "Answer Here"
      ]
    },
    {
      "cell_type": "markdown",
      "metadata": {
        "id": "rFu4xreNphqO"
      },
      "source": [
        "##### 3. Will the gained insights help creating a positive business impact? \n",
        "Are there any insights that lead to negative growth? Justify with specific reason."
      ]
    },
    {
      "cell_type": "markdown",
      "metadata": {
        "id": "ey_0qi68phqO"
      },
      "source": [
        "Answer Here"
      ]
    },
    {
      "cell_type": "markdown",
      "metadata": {
        "id": "YJ55k-q6phqO"
      },
      "source": [
        "#### Chart - 9"
      ]
    },
    {
      "cell_type": "code",
      "execution_count": null,
      "metadata": {
        "colab": {
          "base_uri": "https://localhost:8080/",
          "height": 388
        },
        "id": "B2aS4O1ophqO",
        "outputId": "87e083ff-f37e-49a9-b288-7de723799208"
      },
      "outputs": [
        {
          "output_type": "display_data",
          "data": {
            "text/plain": [
              "<Figure size 1080x432 with 1 Axes>"
            ],
            "image/png": "[encoded data removed]"
          },
          "metadata": {
            "needs_background": "light"
          }
        }
      ],
      "source": [
        "# Chart - 9 visualization code\n",
        "# Vintage distribution and success of insurance\n",
        "\n",
        "plt.figure(figsize = ( 15, 6))\n",
        "\n",
        "# Plotting the histograms for vintange and success of insurance along vintage \n",
        "sns.histplot( x= df['Vintage'], bins = 175)\n",
        "sns.histplot( x= df['Vintage'][df['Response'] == 1], bins = 175, color = 'r')\n",
        "\n",
        "plt.show()"
      ]
    },
    {
      "cell_type": "markdown",
      "metadata": {
        "id": "gCFgpxoyphqP"
      },
      "source": [
        "##### 1. Why did you pick the specific chart?"
      ]
    },
    {
      "cell_type": "markdown",
      "metadata": {
        "id": "TVxDimi2phqP"
      },
      "source": [
        "Answer Here."
      ]
    },
    {
      "cell_type": "markdown",
      "metadata": {
        "id": "OVtJsKN_phqQ"
      },
      "source": [
        "##### 2. What is/are the insight(s) found from the chart?"
      ]
    },
    {
      "cell_type": "markdown",
      "metadata": {
        "id": "ngGi97qjphqQ"
      },
      "source": [
        "Answer Here"
      ]
    },
    {
      "cell_type": "markdown",
      "metadata": {
        "id": "lssrdh5qphqQ"
      },
      "source": [
        "##### 3. Will the gained insights help creating a positive business impact? \n",
        "Are there any insights that lead to negative growth? Justify with specific reason."
      ]
    },
    {
      "cell_type": "markdown",
      "metadata": {
        "id": "tBpY5ekJphqQ"
      },
      "source": [
        "Answer Here"
      ]
    },
    {
      "cell_type": "markdown",
      "metadata": {
        "id": "U2RJ9gkRphqQ"
      },
      "source": [
        "#### Chart - 10"
      ]
    },
    {
      "cell_type": "code",
      "execution_count": null,
      "metadata": {
        "colab": {
          "base_uri": "https://localhost:8080/",
          "height": 446
        },
        "id": "GM7a4YP4phqQ",
        "outputId": "fec18f3d-3015-4a68-9a3e-b5c752b7e84b"
      },
      "outputs": [
        {
          "output_type": "execute_result",
          "data": {
            "text/plain": [
              "   Previously_Insured\n",
              "0              206481\n",
              "1              174628"
            ],
            "text/html": [
              "\n",
              "  <div id=\"df-686cca2c-074e-47e2-97f1-1db3624d647f\">\n",
              "    <div class=\"colab-df-container\">\n",
              "      <div>\n",
              "<style scoped>\n",
              "    .dataframe tbody tr th:only-of-type {\n",
              "        vertical-align: middle;\n",
              "    }\n",
              "\n",
              "    .dataframe tbody tr th {\n",
              "        vertical-align: top;\n",
              "    }\n",
              "\n",
              "    .dataframe thead th {\n",
              "        text-align: right;\n",
              "    }\n",
              "</style>\n",
              "<table border=\"1\" class=\"dataframe\">\n",
              "  <thead>\n",
              "    <tr style=\"text-align: right;\">\n",
              "      <th></th>\n",
              "      <th>Previously_Insured</th>\n",
              "    </tr>\n",
              "  </thead>\n",
              "  <tbody>\n",
              "    <tr>\n",
              "      <th>0</th>\n",
              "      <td>206481</td>\n",
              "    </tr>\n",
              "    <tr>\n",
              "      <th>1</th>\n",
              "      <td>174628</td>\n",
              "    </tr>\n",
              "  </tbody>\n",
              "</table>\n",
              "</div>\n",
              "      <button class=\"colab-df-convert\" onclick=\"convertToInteractive('df-686cca2c-074e-47e2-97f1-1db3624d647f')\"\n",
              "              title=\"Convert this dataframe to an interactive table.\"\n",
              "              style=\"display:none;\">\n",
              "        \n",
              "  <svg xmlns=\"http://www.w3.org/2000/svg\" height=\"24px\"viewBox=\"0 0 24 24\"\n",
              "       width=\"24px\">\n",
              "    <path d=\"M0 0h24v24H0V0z\" fill=\"none\"/>\n",
              "    <path d=\"M18.56 5.44l.94 2.06.94-2.06 2.06-.94-2.06-.94-.94-2.06-.94 2.06-2.06.94zm-11 1L8.5 8.5l.94-2.06 2.06-.94-2.06-.94L8.5 2.5l-.94 2.06-2.06.94zm10 10l.94 2.06.94-2.06 2.06-.94-2.06-.94-.94-2.06-.94 2.06-2.06.94z\"/><path d=\"M17.41 7.96l-1.37-1.37c-.4-.4-.92-.59-1.43-.59-.52 0-1.04.2-1.43.59L10.3 9.45l-7.72 7.72c-.78.78-.78 2.05 0 2.83L4 21.41c.39.39.9.59 1.41.59.51 0 1.02-.2 1.41-.59l7.78-7.78 2.81-2.81c.8-.78.8-2.07 0-2.86zM5.41 20L4 18.59l7.72-7.72 1.47 1.35L5.41 20z\"/>\n",
              "  </svg>\n",
              "      </button>\n",
              "      \n",
              "  <style>\n",
              "    .colab-df-container {\n",
              "      display:flex;\n",
              "      flex-wrap:wrap;\n",
              "      gap: 12px;\n",
              "    }\n",
              "\n",
              "    .colab-df-convert {\n",
              "      background-color: #E8F0FE;\n",
              "      border: none;\n",
              "      border-radius: 50%;\n",
              "      cursor: pointer;\n",
              "      display: none;\n",
              "      fill: #1967D2;\n",
              "      height: 32px;\n",
              "      padding: 0 0 0 0;\n",
              "      width: 32px;\n",
              "    }\n",
              "\n",
              "    .colab-df-convert:hover {\n",
              "      background-color: #E2EBFA;\n",
              "      box-shadow: 0px 1px 2px rgba(60, 64, 67, 0.3), 0px 1px 3px 1px rgba(60, 64, 67, 0.15);\n",
              "      fill: #174EA6;\n",
              "    }\n",
              "\n",
              "    [theme=dark] .colab-df-convert {\n",
              "      background-color: #3B4455;\n",
              "      fill: #D2E3FC;\n",
              "    }\n",
              "\n",
              "    [theme=dark] .colab-df-convert:hover {\n",
              "      background-color: #434B5C;\n",
              "      box-shadow: 0px 1px 3px 1px rgba(0, 0, 0, 0.15);\n",
              "      filter: drop-shadow(0px 1px 2px rgba(0, 0, 0, 0.3));\n",
              "      fill: #FFFFFF;\n",
              "    }\n",
              "  </style>\n",
              "\n",
              "      <script>\n",
              "        const buttonEl =\n",
              "          document.querySelector('#df-686cca2c-074e-47e2-97f1-1db3624d647f button.colab-df-convert');\n",
              "        buttonEl.style.display =\n",
              "          google.colab.kernel.accessAllowed ? 'block' : 'none';\n",
              "\n",
              "        async function convertToInteractive(key) {\n",
              "          const element = document.querySelector('#df-686cca2c-074e-47e2-97f1-1db3624d647f');\n",
              "          const dataTable =\n",
              "            await google.colab.kernel.invokeFunction('convertToInteractive',\n",
              "                                                     [key], {});\n",
              "          if (!dataTable) return;\n",
              "\n",
              "          const docLinkHtml = 'Like what you see? Visit the ' +\n",
              "            '<a target=\"_blank\" href=https://colab.research.google.com/notebooks/data_table.ipynb>data table notebook</a>'\n",
              "            + ' to learn more about interactive tables.';\n",
              "          element.innerHTML = '';\n",
              "          dataTable['output_type'] = 'display_data';\n",
              "          await google.colab.output.renderOutput(dataTable, element);\n",
              "          const docLink = document.createElement('div');\n",
              "          docLink.innerHTML = docLinkHtml;\n",
              "          element.appendChild(docLink);\n",
              "        }\n",
              "      </script>\n",
              "    </div>\n",
              "  </div>\n",
              "  "
            ]
          },
          "metadata": {},
          "execution_count": 30
        },
        {
          "output_type": "display_data",
          "data": {
            "text/plain": [
              "<Figure size 432x360 with 1 Axes>"
            ],
            "image/png": "[encoded data removed]"
          },
          "metadata": {
            "needs_background": "light"
          }
        }
      ],
      "source": [
        "# Chart - 10 visualization code\n",
        "# Analysis on previously insured damage and effect on response\n",
        "df['Previously_Insured'].astype(int)\n",
        "plt.figure(figsize= (6,5))\n",
        "sns.countplot(data = df, x= 'Previously_Insured', hue= df['Response'], palette = 'Paired')\n",
        "plt.title('Previously_insured VS Response')\n",
        "\n",
        "pd.DataFrame(df.groupby('Previously_Insured')['Response'].sum())\n",
        "pd.DataFrame(df['Previously_Insured'].value_counts())\n"
      ]
    },
    {
      "cell_type": "markdown",
      "metadata": {
        "id": "1M8mcRywphqQ"
      },
      "source": [
        "##### 1. Why did you pick the specific chart?"
      ]
    },
    {
      "cell_type": "markdown",
      "metadata": {
        "id": "8agQvks0phqQ"
      },
      "source": [
        "Answer Here."
      ]
    },
    {
      "cell_type": "markdown",
      "metadata": {
        "id": "tgIPom80phqQ"
      },
      "source": [
        "##### 2. What is/are the insight(s) found from the chart?"
      ]
    },
    {
      "cell_type": "markdown",
      "metadata": {
        "id": "Qp13pnNzphqQ"
      },
      "source": [
        "Answer Here"
      ]
    },
    {
      "cell_type": "markdown",
      "metadata": {
        "id": "JMzcOPDDphqR"
      },
      "source": [
        "##### 3. Will the gained insights help creating a positive business impact? \n",
        "Are there any insights that lead to negative growth? Justify with specific reason."
      ]
    },
    {
      "cell_type": "markdown",
      "metadata": {
        "id": "R4Ka1PC2phqR"
      },
      "source": [
        "Answer Here"
      ]
    },
    {
      "cell_type": "markdown",
      "metadata": {
        "id": "NC_X3p0fY2L0"
      },
      "source": [
        "#### Chart - 11- Correlation Heatmap"
      ]
    },
    {
      "cell_type": "code",
      "execution_count": null,
      "metadata": {
        "colab": {
          "base_uri": "https://localhost:8080/",
          "height": 801
        },
        "id": "xyC9zolEZNRQ",
        "outputId": "768a129c-d87e-4e2b-ca15-56f32315bd08"
      },
      "outputs": [
        {
          "output_type": "display_data",
          "data": {
            "text/plain": [
              "<Figure size 1008x864 with 2 Axes>"
            ],
            "image/png": "[encoded data removed]"
          },
          "metadata": {
            "needs_background": "light"
          }
        }
      ],
      "source": [
        "# Correlation Heatmap visualization code\n",
        "# Plotting heatmap to look at the correlation of features\n",
        "plt.figure(figsize = (14,12))\n",
        "sns.heatmap(df.corr(), annot = True,  cmap = 'viridis')\n",
        "plt.show()"
      ]
    },
    {
      "cell_type": "markdown",
      "metadata": {
        "id": "UV0SzAkaZNRQ"
      },
      "source": [
        "##### 1. Why did you pick the specific chart?"
      ]
    },
    {
      "cell_type": "markdown",
      "metadata": {
        "id": "DVPuT8LYZNRQ"
      },
      "source": [
        "Answer Here."
      ]
    },
    {
      "cell_type": "markdown",
      "metadata": {
        "id": "YPEH6qLeZNRQ"
      },
      "source": [
        "##### 2. What is/are the insight(s) found from the chart?"
      ]
    },
    {
      "cell_type": "markdown",
      "metadata": {
        "id": "bfSqtnDqZNRR"
      },
      "source": [
        "Answer Here"
      ]
    },
    {
      "cell_type": "markdown",
      "metadata": {
        "id": "q29F0dvdveiT"
      },
      "source": [
        "#### Chart - 12 - Pair Plot "
      ]
    },
    {
      "cell_type": "code",
      "execution_count": null,
      "metadata": {
        "id": "o58-TEIhveiU"
      },
      "outputs": [],
      "source": [
        "# Pair Plot visualization code\n",
        "# plotting pairplot which will give overview of  all the numeric features and responses in 1 plot but surely\n",
        "sns.pairplot(df[['Age', 'Annual_Premium', 'Policy_Sales_Channel', 'Vintage', 'Response']], hue= 'Response')\n",
        "plt.show()"
      ]
    },
    {
      "cell_type": "markdown",
      "metadata": {
        "id": "EXh0U9oCveiU"
      },
      "source": [
        "##### 1. Why did you pick the specific chart?"
      ]
    },
    {
      "cell_type": "markdown",
      "metadata": {
        "id": "eMmPjTByveiU"
      },
      "source": [
        "Answer Here."
      ]
    },
    {
      "cell_type": "markdown",
      "metadata": {
        "id": "22aHeOlLveiV"
      },
      "source": [
        "##### 2. What is/are the insight(s) found from the chart?"
      ]
    },
    {
      "cell_type": "markdown",
      "metadata": {
        "id": "uPQ8RGwHveiV"
      },
      "source": [
        "Answer Here"
      ]
    },
    {
      "cell_type": "markdown",
      "metadata": {
        "id": "g-ATYxFrGrvw"
      },
      "source": [
        "## ***5. Hypothesis Testing***"
      ]
    },
    {
      "cell_type": "markdown",
      "metadata": {
        "id": "Yfr_Vlr8HBkt"
      },
      "source": [
        "### Based on your chart experiments, define three hypothetical statements from the dataset. In the next three questions, perform hypothesis testing to obtain final conclusion about the statements through your code and statistical testing."
      ]
    },
    {
      "cell_type": "markdown",
      "metadata": {
        "id": "-7MS06SUHkB-"
      },
      "source": [
        "Answer Here."
      ]
    },
    {
      "cell_type": "markdown",
      "metadata": {
        "id": "8yEUt7NnHlrM"
      },
      "source": [
        "### Hypothetical Statement - 1"
      ]
    },
    {
      "cell_type": "markdown",
      "metadata": {
        "id": "tEA2Xm5dHt1r"
      },
      "source": [
        "#### 1. State Your research hypothesis as a null hypothesis and alternate hypothesis."
      ]
    },
    {
      "cell_type": "markdown",
      "metadata": {
        "id": "HI9ZP0laH0D-"
      },
      "source": [
        "Answer Here."
      ]
    },
    {
      "cell_type": "markdown",
      "metadata": {
        "id": "I79__PHVH19G"
      },
      "source": [
        "#### 2. Perform an appropriate statistical test."
      ]
    },
    {
      "cell_type": "code",
      "execution_count": null,
      "metadata": {
        "id": "oZrfquKtyian"
      },
      "outputs": [],
      "source": [
        "# Perform Statistical Test to obtain P-Value\n",
        "from scipy.stats import pearsonr\n",
        "first_sample = df[\"id\"].head(60)\n",
        "second_sample = df[\"Annual_Premium\"].head(60)\n",
        "\n",
        "stat, p = pearsonr(first_sample, second_sample)\n",
        "print('stat=%.3f, p = %.2f'%(stat, p))\n",
        "if p> 0.05:\n",
        "  print('Accept Null Hypothesis')\n",
        "else:\n",
        "  print('Rejected Null Hypothesis')"
      ]
    },
    {
      "cell_type": "markdown",
      "metadata": {
        "id": "Ou-I18pAyIpj"
      },
      "source": [
        "##### Which statistical test have you done to obtain P-Value?"
      ]
    },
    {
      "cell_type": "markdown",
      "metadata": {
        "id": "s2U0kk00ygSB"
      },
      "source": [
        "Answer Here."
      ]
    },
    {
      "cell_type": "markdown",
      "metadata": {
        "id": "fF3858GYyt-u"
      },
      "source": [
        "##### Why did you choose the specific statistical test?"
      ]
    },
    {
      "cell_type": "markdown",
      "metadata": {
        "id": "HO4K0gP5y3B4"
      },
      "source": [
        "Answer Here."
      ]
    },
    {
      "cell_type": "markdown",
      "metadata": {
        "id": "4_0_7-oCpUZd"
      },
      "source": [
        "### Hypothetical Statement - 2"
      ]
    },
    {
      "cell_type": "markdown",
      "metadata": {
        "id": "hwyV_J3ipUZe"
      },
      "source": [
        "#### 1. State Your research hypothesis as a null hypothesis and alternate hypothesis."
      ]
    },
    {
      "cell_type": "markdown",
      "metadata": {
        "id": "FnpLGJ-4pUZe"
      },
      "source": [
        "Answer Here."
      ]
    },
    {
      "cell_type": "markdown",
      "metadata": {
        "id": "3yB-zSqbpUZe"
      },
      "source": [
        "#### 2. Perform an appropriate statistical test."
      ]
    },
    {
      "cell_type": "code",
      "execution_count": null,
      "metadata": {
        "id": "sWxdNTXNpUZe"
      },
      "outputs": [],
      "source": [
        "# Perform Statistical Test to obtain P-Value\n",
        "from scipy.stats import pearsonr\n",
        "first_sample = df[\"Policy_Sales_Channel\"].head(60)\n",
        "second_sample = df[\"Vintage\"].head(60)\n",
        "\n",
        "stat, p = pearsonr(first_sample, second_sample)\n",
        "print('stat=%.3f, p = %.2f'%(stat, p))\n",
        "if p> 0.05:\n",
        "  print('Accept Null Hypothesis')\n",
        "else:\n",
        "  print('Rejected Null Hypothesis')"
      ]
    },
    {
      "cell_type": "markdown",
      "metadata": {
        "id": "dEUvejAfpUZe"
      },
      "source": [
        "##### Which statistical test have you done to obtain P-Value?"
      ]
    },
    {
      "cell_type": "markdown",
      "metadata": {
        "id": "oLDrPz7HpUZf"
      },
      "source": [
        "Answer Here."
      ]
    },
    {
      "cell_type": "markdown",
      "metadata": {
        "id": "Fd15vwWVpUZf"
      },
      "source": [
        "##### Why did you choose the specific statistical test?"
      ]
    },
    {
      "cell_type": "markdown",
      "metadata": {
        "id": "4xOGYyiBpUZf"
      },
      "source": [
        "Answer Here."
      ]
    },
    {
      "cell_type": "markdown",
      "metadata": {
        "id": "bn_IUdTipZyH"
      },
      "source": [
        "### Hypothetical Statement - 3"
      ]
    },
    {
      "cell_type": "markdown",
      "metadata": {
        "id": "49K5P_iCpZyH"
      },
      "source": [
        "#### 1. State Your research hypothesis as a null hypothesis and alternate hypothesis."
      ]
    },
    {
      "cell_type": "markdown",
      "metadata": {
        "id": "7gWI5rT9pZyH"
      },
      "source": [
        "Answer Here."
      ]
    },
    {
      "cell_type": "markdown",
      "metadata": {
        "id": "Nff-vKELpZyI"
      },
      "source": [
        "#### 2. Perform an appropriate statistical test."
      ]
    },
    {
      "cell_type": "code",
      "execution_count": null,
      "metadata": {
        "id": "s6AnJQjtpZyI"
      },
      "outputs": [],
      "source": [
        "# Perform Statistical Test to obtain P-Value\n",
        "from scipy.stats import pearsonr\n",
        "first_sample = df[\"Previously_Insured\"].head(60)\n",
        "second_sample = df[\"Driving_License\"].head(60)\n",
        "\n",
        "stat, p = pearsonr(first_sample, second_sample)\n",
        "print('stat=%.3f, p = %.2f'%(stat, p))\n",
        "if p> 0.05:\n",
        "  print('Accept Null Hypothesis')\n",
        "else:\n",
        "  print('Rejected Null Hypothesis')"
      ]
    },
    {
      "cell_type": "markdown",
      "metadata": {
        "id": "kLW572S8pZyI"
      },
      "source": [
        "##### Which statistical test have you done to obtain P-Value?"
      ]
    },
    {
      "cell_type": "markdown",
      "metadata": {
        "id": "ytWJ8v15pZyI"
      },
      "source": [
        "Answer Here."
      ]
    },
    {
      "cell_type": "markdown",
      "metadata": {
        "id": "dWbDXHzopZyI"
      },
      "source": [
        "##### Why did you choose the specific statistical test?"
      ]
    },
    {
      "cell_type": "markdown",
      "metadata": {
        "id": "M99G98V6pZyI"
      },
      "source": [
        "Answer Here."
      ]
    },
    {
      "cell_type": "markdown",
      "metadata": {
        "id": "yLjJCtPM0KBk"
      },
      "source": [
        "## ***6. Feature Engineering & Data Pre-processing***"
      ]
    },
    {
      "cell_type": "markdown",
      "metadata": {
        "id": "xiyOF9F70UgQ"
      },
      "source": [
        "### 1. Handling Missing Values"
      ]
    },
    {
      "cell_type": "code",
      "execution_count": null,
      "metadata": {
        "id": "iRsAHk1K0fpS"
      },
      "outputs": [],
      "source": [
        "# Handling Missing Values & Missing Value Imputation\n",
        "# checking for null values\n",
        "df.isnull().sum()"
      ]
    },
    {
      "cell_type": "markdown",
      "metadata": {
        "id": "7wuGOrhz0itI"
      },
      "source": [
        "#### What all missing value imputation techniques have you used and why did you use those techniques?"
      ]
    },
    {
      "cell_type": "markdown",
      "metadata": {
        "id": "1ixusLtI0pqI"
      },
      "source": [
        "Answer Here."
      ]
    },
    {
      "cell_type": "markdown",
      "metadata": {
        "id": "id1riN9m0vUs"
      },
      "source": [
        "### 2. Handling Outliers"
      ]
    },
    {
      "cell_type": "code",
      "execution_count": null,
      "metadata": {
        "id": "LYcQgtDrtT89"
      },
      "outputs": [],
      "source": [
        "df['Annual_Premium'].describe()"
      ]
    },
    {
      "cell_type": "code",
      "execution_count": null,
      "metadata": {
        "id": "M6w2CzZf04JK"
      },
      "outputs": [],
      "source": [
        "# Handling Outliers & Outlier treatments\n",
        "plt.figure(figsize=(15,10))\n",
        "\n",
        "plt.ylabel('Annual_Premium')\n",
        "sns.boxplot(x=np.sqrt(df['Annual_Premium']))\n",
        "plt.show()"
      ]
    },
    {
      "cell_type": "markdown",
      "metadata": {
        "id": "578E2V7j08f6"
      },
      "source": [
        "##### What all outlier treatment techniques have you used and why did you use those techniques?"
      ]
    },
    {
      "cell_type": "markdown",
      "metadata": {
        "id": "uGZz5OrT1HH-"
      },
      "source": [
        "Answer Here."
      ]
    },
    {
      "cell_type": "markdown",
      "metadata": {
        "id": "89xtkJwZ18nB"
      },
      "source": [
        "### 3. Categorical Encoding"
      ]
    },
    {
      "cell_type": "code",
      "execution_count": null,
      "metadata": {
        "id": "21JmIYMG2hEo"
      },
      "outputs": [],
      "source": [
        "# Encode your categorical columns\n",
        "# Encode your categorical columns\n",
        "categorical_features= df.select_dtypes(include='object')"
      ]
    },
    {
      "cell_type": "code",
      "execution_count": null,
      "metadata": {
        "id": "_FJcWb_dumuo"
      },
      "outputs": [],
      "source": [
        "categorical_features"
      ]
    },
    {
      "cell_type": "code",
      "execution_count": null,
      "metadata": {
        "id": "a3TcYzdCuuHU"
      },
      "outputs": [],
      "source": [
        "#ploting Box plot to visualize and trying to get information from plot\n",
        "for col in categorical_features:\n",
        "  plt.figure(figsize=(10,8))\n",
        "  sns.boxplot(x=df[col],y=df[\"Annual_Premium\"])\n",
        "  plt.show()"
      ]
    },
    {
      "cell_type": "markdown",
      "metadata": {
        "id": "67NQN5KX2AMe"
      },
      "source": [
        "#### What all categorical encoding techniques have you used & why did you use those techniques?"
      ]
    },
    {
      "cell_type": "markdown",
      "metadata": {
        "id": "UDaue5h32n_G"
      },
      "source": [
        "Answer Here."
      ]
    },
    {
      "cell_type": "markdown",
      "metadata": {
        "id": "Iwf50b-R2tYG"
      },
      "source": [
        "### 4. Textual Data Preprocessing \n",
        "(It's mandatory for textual dataset i.e., NLP, Sentiment Analysis, Text Clustering etc.)"
      ]
    },
    {
      "cell_type": "markdown",
      "metadata": {
        "id": "GMQiZwjn3iu7"
      },
      "source": [
        "#### 1. Expand Contraction"
      ]
    },
    {
      "cell_type": "code",
      "execution_count": null,
      "metadata": {
        "id": "PTouz10C3oNN"
      },
      "outputs": [],
      "source": [
        "# Expand Contraction"
      ]
    },
    {
      "cell_type": "markdown",
      "metadata": {
        "id": "WVIkgGqN3qsr"
      },
      "source": [
        "#### 2. Lower Casing"
      ]
    },
    {
      "cell_type": "code",
      "execution_count": null,
      "metadata": {
        "id": "88JnJ1jN3w7j"
      },
      "outputs": [],
      "source": [
        "# Lower Casing"
      ]
    },
    {
      "cell_type": "markdown",
      "metadata": {
        "id": "XkPnILGE3zoT"
      },
      "source": [
        "#### 3. Removing Punctuations"
      ]
    },
    {
      "cell_type": "code",
      "execution_count": null,
      "metadata": {
        "id": "vqbBqNaA33c0"
      },
      "outputs": [],
      "source": [
        "# Remove Punctuations"
      ]
    },
    {
      "cell_type": "markdown",
      "metadata": {
        "id": "Hlsf0x5436Go"
      },
      "source": [
        "#### 4. Removing URLs & Removing words and digits contain digits."
      ]
    },
    {
      "cell_type": "code",
      "execution_count": null,
      "metadata": {
        "id": "2sxKgKxu4Ip3"
      },
      "outputs": [],
      "source": [
        "# Remove URLs & Remove words and digits contain digits"
      ]
    },
    {
      "cell_type": "markdown",
      "metadata": {
        "id": "mT9DMSJo4nBL"
      },
      "source": [
        "#### 5. Removing Stopwords & Removing White spaces"
      ]
    },
    {
      "cell_type": "code",
      "execution_count": null,
      "metadata": {
        "id": "T2LSJh154s8W"
      },
      "outputs": [],
      "source": [
        "# Remove Stopwords"
      ]
    },
    {
      "cell_type": "code",
      "execution_count": null,
      "metadata": {
        "id": "EgLJGffy4vm0"
      },
      "outputs": [],
      "source": [
        "# Remove White spaces"
      ]
    },
    {
      "cell_type": "markdown",
      "metadata": {
        "id": "c49ITxTc407N"
      },
      "source": [
        "#### 6. Rephrase Text"
      ]
    },
    {
      "cell_type": "code",
      "execution_count": null,
      "metadata": {
        "id": "foqY80Qu48N2"
      },
      "outputs": [],
      "source": [
        "# Rephrase Text"
      ]
    },
    {
      "cell_type": "markdown",
      "metadata": {
        "id": "OeJFEK0N496M"
      },
      "source": [
        "#### 7. Tokenization"
      ]
    },
    {
      "cell_type": "code",
      "execution_count": null,
      "metadata": {
        "id": "ijx1rUOS5CUU"
      },
      "outputs": [],
      "source": [
        "# Tokenization"
      ]
    },
    {
      "cell_type": "markdown",
      "metadata": {
        "id": "9ExmJH0g5HBk"
      },
      "source": [
        "#### 8. Text Normalization"
      ]
    },
    {
      "cell_type": "code",
      "execution_count": null,
      "metadata": {
        "id": "AIJ1a-Zc5PY8"
      },
      "outputs": [],
      "source": [
        "# Normalizing Text (i.e., Stemming, Lemmatization etc.)"
      ]
    },
    {
      "cell_type": "markdown",
      "metadata": {
        "id": "cJNqERVU536h"
      },
      "source": [
        "##### Which text normalization technique have you used and why?"
      ]
    },
    {
      "cell_type": "markdown",
      "metadata": {
        "id": "Z9jKVxE06BC1"
      },
      "source": [
        "Answer Here."
      ]
    },
    {
      "cell_type": "markdown",
      "metadata": {
        "id": "k5UmGsbsOxih"
      },
      "source": [
        "#### 9. Part of speech tagging"
      ]
    },
    {
      "cell_type": "code",
      "execution_count": null,
      "metadata": {
        "id": "btT3ZJBAO6Ik"
      },
      "outputs": [],
      "source": [
        "# POS Taging"
      ]
    },
    {
      "cell_type": "markdown",
      "metadata": {
        "id": "T0VqWOYE6DLQ"
      },
      "source": [
        "#### 10. Text Vectorization"
      ]
    },
    {
      "cell_type": "code",
      "execution_count": null,
      "metadata": {
        "id": "yBRtdhth6JDE"
      },
      "outputs": [],
      "source": [
        "# Vectorizing Text"
      ]
    },
    {
      "cell_type": "markdown",
      "metadata": {
        "id": "qBMux9mC6MCf"
      },
      "source": [
        "##### Which text vectorization technique have you used and why?"
      ]
    },
    {
      "cell_type": "markdown",
      "metadata": {
        "id": "su2EnbCh6UKQ"
      },
      "source": [
        "Answer Here."
      ]
    },
    {
      "cell_type": "markdown",
      "metadata": {
        "id": "lXbuWrZjTPhU"
      },
      "source": [
        "# **DATA PREPROCESSING**"
      ]
    },
    {
      "cell_type": "code",
      "execution_count": null,
      "metadata": {
        "id": "2z7JJ4FaS_cr"
      },
      "outputs": [],
      "source": [
        "# binning the reason \n",
        "def bin_func(i):\n",
        "  if i < 21:\n",
        "    return 'Region1'\n",
        "  elif i>= 21 and i <31:\n",
        "    return 'Region2'\n",
        "  elif i>= 31 and i <40:\n",
        "    return 'Region3'\n",
        "  else:\n",
        "    return 'Region4'\n"
      ]
    },
    {
      "cell_type": "code",
      "execution_count": null,
      "metadata": {
        "id": "4v3Pmdi-SxBj"
      },
      "outputs": [],
      "source": [
        "# applying the funtion \n",
        "\n",
        "df['Region_Code'] = df['Region_Code'].apply(bin_func)"
      ]
    },
    {
      "cell_type": "code",
      "execution_count": null,
      "metadata": {
        "id": "4tAuxNc2Stw6"
      },
      "outputs": [],
      "source": [
        "# exploring the head of the data\n",
        "df.head()"
      ]
    },
    {
      "cell_type": "markdown",
      "metadata": {
        "id": "BhH2vgX9EjGr"
      },
      "source": [
        "#  **Data Splitting**"
      ]
    },
    {
      "cell_type": "code",
      "execution_count": null,
      "metadata": {
        "id": "t1C8ekPoSc0r"
      },
      "outputs": [],
      "source": [
        "# defining dependent and independent features\n",
        "X = df.drop('Response', axis = 1)\n",
        "y = df['Response']"
      ]
    },
    {
      "cell_type": "code",
      "execution_count": null,
      "metadata": {
        "id": "xZqff6bvRjDk"
      },
      "outputs": [],
      "source": [
        "# performing train test split\n",
        "from sklearn.model_selection import train_test_split\n",
        "\n",
        "X_train , X_test, y_train, y_test = train_test_split(X, y, test_size=0.25, random_state = 42)"
      ]
    },
    {
      "cell_type": "markdown",
      "metadata": {
        "id": "qjKvONjwE8ra"
      },
      "source": [
        "##### What data splitting ratio have you used and why? "
      ]
    },
    {
      "cell_type": "markdown",
      "metadata": {
        "id": "Y2lJ8cobFDb_"
      },
      "source": [
        "Answer Here."
      ]
    },
    {
      "cell_type": "code",
      "execution_count": null,
      "metadata": {
        "id": "a7-f1EwyTlvQ"
      },
      "outputs": [],
      "source": [
        "# checking all the columns\n",
        "df.columns"
      ]
    },
    {
      "cell_type": "markdown",
      "metadata": {
        "id": "7nfJFwCITycy"
      },
      "source": [
        "# **DATA SCALLING**"
      ]
    },
    {
      "cell_type": "code",
      "execution_count": null,
      "metadata": {
        "id": "Fcyj3zwHUEiF"
      },
      "outputs": [],
      "source": [
        "# scaling and encoding the X_train data set\n",
        "cat_feature_df =  X_train[['Gender', 'Region_Code','Vehicle_Age', 'Vehicle_Damage','Driving_License','Previously_Insured']]\n",
        "cat_feature_df = cat_feature_df.reset_index().drop('index', axis = 1)\n",
        "\n",
        "encoded_columns =    pd.get_dummies(cat_feature_df, drop_first =True)\n",
        "\n",
        "\n",
        "numeric_feature_df = X_train[['Age', 'Annual_Premium', 'Policy_Sales_Channel', 'Vintage']]\n",
        "\n",
        "sc = StandardScaler()\n",
        "df1 =  pd.DataFrame(sc.fit_transform(numeric_feature_df), columns = ['Age', 'Annual_Premium', 'Policy_Sales_Channel', 'Vintage'])\n",
        "scaled_X_train = pd.concat([ df1, encoded_columns], axis = 1)\n",
        "scaled_X_train"
      ]
    },
    {
      "cell_type": "code",
      "execution_count": null,
      "metadata": {
        "id": "TXf7F0SNULrW"
      },
      "outputs": [],
      "source": [
        "# scaling and encoding the X_test data set\n",
        "cat_df_test = X_test[['Gender', 'Region_Code','Vehicle_Age','Driving_License', 'Vehicle_Damage','Previously_Insured']]\n",
        "cat_df_test = cat_df_test.reset_index().drop('index', axis = 1)\n",
        "\n",
        "encoded_columns_test =    pd.get_dummies(cat_df_test, drop_first =True)\n",
        "\n",
        "\n",
        "numeric_feature_df_test = X_test[['Age', 'Annual_Premium', 'Policy_Sales_Channel', 'Vintage']]\n",
        "\n",
        "df1_test =  pd.DataFrame(sc.transform(numeric_feature_df_test), columns = ['Age', 'Annual_Premium', 'Policy_Sales_Channel', 'Vintage'])\n",
        "scaled_X_test = pd.concat([ df1_test , encoded_columns_test], axis = 1)\n",
        "scaled_X_test"
      ]
    },
    {
      "cell_type": "markdown",
      "metadata": {
        "id": "P1XJ9OREExlT"
      },
      "source": [
        "# **Handling Imbalanced Dataset**"
      ]
    },
    {
      "cell_type": "code",
      "execution_count": null,
      "metadata": {
        "id": "Z0NpvzrFUUrq"
      },
      "outputs": [],
      "source": [
        "# Handling Imbalanced Dataset (If needed)\n",
        "from imblearn.over_sampling import SMOTE\n",
        "# Resampling the minority class. The strategy can be changed as required.\n",
        "\n",
        "counter = Counter(y_train)\n",
        "print('Before oversmapling', counter )\n",
        "sm = SMOTE(sampling_strategy='minority', random_state=42)\n",
        "# Fit the model to generate the data.\n",
        "oversampled_X, oversampled_Y = sm.fit_resample(scaled_X_train, y_train)\n",
        "oversampled = pd.concat([pd.DataFrame(oversampled_Y), pd.DataFrame(oversampled_X)], axis=1)\n",
        "\n",
        "counter = Counter(oversampled_Y)\n",
        "print('after oversmapling', counter )\n"
      ]
    },
    {
      "cell_type": "code",
      "execution_count": null,
      "metadata": {
        "id": "WfqL2LH7UZbC"
      },
      "outputs": [],
      "source": [
        "# plotting the above results\n",
        "fig, axes = plt.subplots(1,2, figsize = (14,5))\n",
        "\n",
        "\n",
        "sns.countplot(data = y_train, x = y_train, ax = axes[0], palette = 'viridis')\n",
        "sns.countplot(data = oversampled, x = oversampled_Y, ax = axes[1], palette = 'viridis')\n",
        "\n",
        "axes[0].set_title('Response count before oversampling')\n",
        "axes[1].set_title('Response count after oversampling')\n",
        "\n",
        "plt.show()"
      ]
    },
    {
      "cell_type": "markdown",
      "metadata": {
        "id": "VFOzZv6IFROw"
      },
      "source": [
        "##### Do you think the dataset is imbalanced? Explain Why."
      ]
    },
    {
      "cell_type": "markdown",
      "metadata": {
        "id": "GeKDIv7pFgcC"
      },
      "source": [
        "Answer Here."
      ]
    },
    {
      "cell_type": "markdown",
      "metadata": {
        "id": "TIqpNgepFxVj"
      },
      "source": [
        "##### What technique did you use to handle the imbalance dataset and why? (If needed to be balanced)"
      ]
    },
    {
      "cell_type": "markdown",
      "metadata": {
        "id": "qbet1HwdGDTz"
      },
      "source": [
        "Answer Here."
      ]
    },
    {
      "cell_type": "markdown",
      "metadata": {
        "id": "VfCC591jGiD4"
      },
      "source": [
        "## ***7. ML Model Implementation***"
      ]
    },
    {
      "cell_type": "markdown",
      "metadata": {
        "id": "OB4l2ZhMeS1U"
      },
      "source": [
        "\n",
        "\n",
        "### Models \n",
        "## 1. Decision Tree\n",
        "# 2. Logistic Regression\n",
        "# 3. Random Forest\n",
        "\n",
        "# **ML Model -1 **  DECISION TREE"
      ]
    },
    {
      "cell_type": "code",
      "execution_count": null,
      "metadata": {
        "id": "7ebyywQieS1U"
      },
      "outputs": [],
      "source": [
        " # Implementation\n",
        "# Importing Decision tree classifier\n",
        "from sklearn.tree import DecisionTreeClassifier\n",
        "\n",
        "# instantiating Decision tree model\n",
        "model1 =  DecisionTreeClassifier(random_state = 42)\n",
        "\n",
        "params = {'max_depth' : [5,6,7,8,9,10,12]}\n",
        "\n",
        "best_d_model = GridSearchCV(model1, param_grid = params , verbose=1, return_train_score= True)\n",
        "\n",
        "# Fit the Algorithm\n",
        "best_d_model.fit(oversampled_X,oversampled_Y)\n"
      ]
    },
    {
      "cell_type": "code",
      "execution_count": null,
      "metadata": {
        "id": "S2o3ztRiY1ha"
      },
      "outputs": [],
      "source": [
        "# Getting best parameters from the grid results\n",
        "best_d_model.best_params_"
      ]
    },
    {
      "cell_type": "code",
      "execution_count": null,
      "metadata": {
        "id": "Dy61ujd6fxKe"
      },
      "outputs": [],
      "source": [
        "# Fit the Algorithm\n",
        "d_model = DecisionTreeClassifier(random_state = 42, max_depth= 10)\n",
        "\n",
        "d_model.fit(oversampled_X,oversampled_Y)\n",
        "\n",
        "d_preds = d_model.predict(scaled_X_test)\n",
        "# Predict on the model\n",
        "list(d_model.predict_proba(scaled_X_test)[:10])"
      ]
    },
    {
      "cell_type": "code",
      "execution_count": null,
      "metadata": {
        "id": "6kH2PbtzECTI"
      },
      "outputs": [],
      "source": [
        "# importing evaluation metrics\n",
        "from sklearn.metrics import confusion_matrix,classification_report,plot_confusion_matrix"
      ]
    },
    {
      "cell_type": "code",
      "execution_count": null,
      "metadata": {
        "id": "Rba7Ed6hEEyW"
      },
      "outputs": [],
      "source": [
        "# Getting cofusion matrix for the results of Decsion tree\n",
        "confusion_matrix(y_test,d_preds)\n"
      ]
    },
    {
      "cell_type": "code",
      "execution_count": null,
      "metadata": {
        "id": "1lKYGTsXEG8m"
      },
      "outputs": [],
      "source": [
        "# Printing classification report\n",
        "print(classification_report(y_test,d_preds))"
      ]
    },
    {
      "cell_type": "code",
      "execution_count": null,
      "metadata": {
        "id": "zJFTZgryEJT9"
      },
      "outputs": [],
      "source": [
        "# plotting Classification matrix for decision tree\n",
        "sns.set_style('white')\n",
        "plot_confusion_matrix(d_model,scaled_X_test,y_test)"
      ]
    },
    {
      "cell_type": "code",
      "execution_count": null,
      "metadata": {
        "id": "YbyPxZsyELpo"
      },
      "outputs": [],
      "source": [
        "# Plotting precision recall curve\n",
        "plot_precision_recall_curve(d_model,scaled_X_test,y_test)"
      ]
    },
    {
      "cell_type": "code",
      "execution_count": null,
      "metadata": {
        "id": "mzzQPJZoEO3r"
      },
      "outputs": [],
      "source": [
        "# Plotting ROC curve for decision tree\n",
        "plot_roc_curve(d_model,scaled_X_test,y_test)"
      ]
    },
    {
      "cell_type": "markdown",
      "metadata": {
        "id": "PiV4Ypx8fxKe"
      },
      "source": [
        "##### Which hyperparameter optimization technique have you used and why?"
      ]
    },
    {
      "cell_type": "markdown",
      "metadata": {
        "id": "negyGRa7fxKf"
      },
      "source": [
        "Answer Here."
      ]
    },
    {
      "cell_type": "markdown",
      "metadata": {
        "id": "TfvqoZmBfxKf"
      },
      "source": [
        "##### Have you seen any improvement? Note down the improvement with updates Evaluation metric Score Chart."
      ]
    },
    {
      "cell_type": "markdown",
      "metadata": {
        "id": "OaLui8CcfxKf"
      },
      "source": [
        "Answer Here."
      ]
    },
    {
      "cell_type": "markdown",
      "metadata": {
        "id": "dJ2tPlVmpsJ0"
      },
      "source": [
        "### ML Model - 2\n",
        "# **LOGISTIC REGRESSION**"
      ]
    },
    {
      "cell_type": "code",
      "source": [
        "# Implimenting Logistic regression model and finding the best parameters\n",
        "from sklearn.linear_model import LogisticRegression\n",
        "\n",
        "model2 = LogisticRegression(random_state = 42)\n",
        "\n",
        "log_params = {'penalty' : ['elasticnet'], 'solver' : ['sag', 'saga'], 'max_iter' : [80,100,120], 'l1_ratio': [0,0.1,0.5,0.8,1],}\n",
        "\n",
        "grid2  = GridSearchCV(model2, param_grid = log_params, cv = 10, scoring = 'roc_auc')\n",
        "\n",
        "grid2.fit(oversampled_X,oversampled_Y)"
      ],
      "metadata": {
        "id": "ibbYEPGNeRON"
      },
      "execution_count": null,
      "outputs": []
    },
    {
      "cell_type": "code",
      "execution_count": null,
      "metadata": {
        "id": "TXf0YgLk-pCY"
      },
      "outputs": [],
      "source": [
        "# finding best parameters for Logistic regression\n",
        "grid2.best_params_\n",
        "\n",
        "{'l1_ratio': 0, 'max_iter': 120, 'penalty': 'elasticnet', 'solver': 'saga'}"
      ]
    },
    {
      "cell_type": "code",
      "source": [
        "# Implimenting Logistic regression besed on best params\n",
        "from sklearn.linear_model import LogisticRegression\n",
        "\n",
        "log_model = LogisticRegression(penalty = 'elasticnet', l1_ratio = 0, max_iter =120, solver = 'saga')\n",
        "log_model.fit(oversampled_X, oversampled_Y)\n",
        "\n",
        "log_preds = log_model.predict(scaled_X_test)"
      ],
      "metadata": {
        "id": "iYRhlbHXZ6u5"
      },
      "execution_count": null,
      "outputs": []
    },
    {
      "cell_type": "markdown",
      "metadata": {
        "id": "JWYfwnehpsJ1"
      },
      "source": [
        "#### 1. Explain the ML Model used and it's performance using Evaluation metric Score Chart."
      ]
    },
    {
      "cell_type": "code",
      "execution_count": null,
      "metadata": {
        "id": "yEl-hgQWpsJ1"
      },
      "outputs": [],
      "source": [
        "# Visualizing evaluation Metric Score chart\n",
        "# Getting confusion martix for logistic regression model\n",
        "confusion_matrix(y_test,log_preds)"
      ]
    },
    {
      "cell_type": "code",
      "source": [
        "# plotting confusion matrix for Logistic regression\n",
        "plot_confusion_matrix(log_model, scaled_X_test, y_test)"
      ],
      "metadata": {
        "id": "GYFYzgO8ay-d"
      },
      "execution_count": null,
      "outputs": []
    },
    {
      "cell_type": "code",
      "source": [
        "# Plotting precision recall curve for Logistic regression\n",
        "plot_precision_recall_curve(log_model,scaled_X_test,y_test)"
      ],
      "metadata": {
        "id": "Oczey6eza2Bp"
      },
      "execution_count": null,
      "outputs": []
    },
    {
      "cell_type": "code",
      "source": [
        "# Roc curve for logistic regression\n",
        "plot_roc_curve(log_model, scaled_X_test, y_test)"
      ],
      "metadata": {
        "id": "087s6Qvaa19b"
      },
      "execution_count": null,
      "outputs": []
    },
    {
      "cell_type": "markdown",
      "metadata": {
        "id": "-jK_YjpMpsJ2"
      },
      "source": [
        "#### 2. Cross- Validation & Hyperparameter Tuning"
      ]
    },
    {
      "cell_type": "code",
      "execution_count": null,
      "metadata": {
        "id": "Dn0EOfS6psJ2"
      },
      "outputs": [],
      "source": [
        "# ML Model - 1 Implementation with hyperparameter optimization techniques (i.e., GridSearch CV, RandomSearch CV, Bayesian Optimization etc.)\n",
        "\n",
        "# Fit the Algorithm\n",
        "\n",
        "# Predict on the model"
      ]
    },
    {
      "cell_type": "markdown",
      "metadata": {
        "id": "HAih1iBOpsJ2"
      },
      "source": [
        "##### Which hyperparameter optimization technique have you used and why?"
      ]
    },
    {
      "cell_type": "markdown",
      "metadata": {
        "id": "9kBgjYcdpsJ2"
      },
      "source": [
        "Answer Here."
      ]
    },
    {
      "cell_type": "markdown",
      "metadata": {
        "id": "zVGeBEFhpsJ2"
      },
      "source": [
        "##### Have you seen any improvement? Note down the improvement with updates Evaluation metric Score Chart."
      ]
    },
    {
      "cell_type": "markdown",
      "metadata": {
        "id": "74yRdG6UpsJ3"
      },
      "source": [
        "Answer Here."
      ]
    },
    {
      "cell_type": "markdown",
      "metadata": {
        "id": "bmKjuQ-FpsJ3"
      },
      "source": [
        "#### 3. Explain each evaluation metric's indication towards business and the business impact pf the ML model used."
      ]
    },
    {
      "cell_type": "markdown",
      "metadata": {
        "id": "BDKtOrBQpsJ3"
      },
      "source": [
        "Answer Here."
      ]
    },
    {
      "cell_type": "markdown",
      "metadata": {
        "id": "Fze-IPXLpx6K"
      },
      "source": [
        "### ML Model - 3\n",
        "# **RANDOM FOREST**"
      ]
    },
    {
      "cell_type": "code",
      "source": [
        "# ML Model - 3 Implementation\n",
        "# applying Random forest and finding out best params out of a grid\n",
        "from sklearn.ensemble import RandomForestClassifier\n",
        "\n",
        "model3 = RandomForestClassifier()\n",
        "\n",
        "params = { 'n_estimators' : [200,300] , 'max_depth': [8,10,12], 'n_jobs' : [5]}\n",
        "\n",
        "\n",
        "grid3 =  GridSearchCV(model3, param_grid = params, scoring = 'roc_auc')\n",
        "\n",
        "grid3.fit(oversampled_X, oversampled_Y)"
      ],
      "metadata": {
        "id": "6vAO-IRxhAEk"
      },
      "execution_count": null,
      "outputs": []
    },
    {
      "cell_type": "code",
      "source": [
        "# Getting best estimator for Random Forest model\n",
        "grid3.best_estimator_"
      ],
      "metadata": {
        "id": "0Mej0HxqbHXp"
      },
      "execution_count": null,
      "outputs": []
    },
    {
      "cell_type": "code",
      "source": [
        "# getting best best parameters for best RF model\n",
        "grid3.best_param"
      ],
      "metadata": {
        "id": "fvB9r3msbHLm"
      },
      "execution_count": null,
      "outputs": []
    },
    {
      "cell_type": "markdown",
      "metadata": {
        "id": "9PIHJqyupx6M"
      },
      "source": [
        "#### 2. Cross- Validation & Hyperparameter Tuning"
      ]
    },
    {
      "cell_type": "code",
      "source": [
        "# Impimenting best model for best params which comes out from above grid\n",
        "R_model = RandomForestClassifier(n_estimators = 300, max_depth = 12 , n_jobs = 5)\n",
        "R_model.fit(oversampled_X, oversampled_Y)\n",
        "\n",
        "R_preds = R_model.predict(scaled_X_test)"
      ],
      "metadata": {
        "id": "7JLk3ar0bHGC"
      },
      "execution_count": null,
      "outputs": []
    },
    {
      "cell_type": "code",
      "source": [
        "# Getting confusion matrix\n",
        "confusion_matrix(y_test,R_preds)"
      ],
      "metadata": {
        "id": "j1AyPMx8bPXP"
      },
      "execution_count": null,
      "outputs": []
    },
    {
      "cell_type": "code",
      "source": [
        "# printing classification report\n",
        "print(classification_report(y_test,R_preds))"
      ],
      "metadata": {
        "id": "dSQanJWIbQR1"
      },
      "execution_count": null,
      "outputs": []
    },
    {
      "cell_type": "code",
      "source": [
        "# Plotting confusion matrix for random forest model\n",
        "sns.set_style('white')\n",
        "plot_confusion_matrix(R_model,scaled_X_test,y_test)"
      ],
      "metadata": {
        "id": "kPrOL8IZbQNx"
      },
      "execution_count": null,
      "outputs": []
    },
    {
      "cell_type": "code",
      "source": [
        "plot_precision_recall_curve(R_model,scaled_X_test,y_test)"
      ],
      "metadata": {
        "id": "zYDWifbvbXCp"
      },
      "execution_count": null,
      "outputs": []
    },
    {
      "cell_type": "code",
      "source": [
        "plot_roc_curve(R_model,scaled_X_test,y_test)"
      ],
      "metadata": {
        "id": "r2kZVQb-bZhM"
      },
      "execution_count": null,
      "outputs": []
    },
    {
      "cell_type": "markdown",
      "source": [
        "# K-Nearest Neighbors"
      ],
      "metadata": {
        "id": "5yMf6V9CU-UU"
      }
    },
    {
      "cell_type": "code",
      "source": [
        "from sklearn.neighbors import KNeighborsClassifier\n",
        "\n",
        "#Setup arrays to store training and test accuracies\n",
        "neighbors = np.arange(1,9)\n",
        "train_accuracy =np.empty(len(neighbors))\n",
        "test_accuracy = np.empty(len(neighbors))\n",
        "\n",
        "for i,k in enumerate(neighbors):\n",
        "    # Setup a knn classifier with k neighbors\n",
        "    knn = KNeighborsClassifier(n_neighbors=k)\n",
        "    \n",
        "    # Fit the model\n",
        "    knn.fit(X_train, y_train)\n",
        "    \n",
        "    # Compute accuracy on the training set\n",
        "    train_accuracy[i] = knn.score(X_train, y_train)\n",
        "    \n",
        "    # Compute accuracy on the test set\n",
        "    test_accuracy[i] = knn.score(X_test, y_test)"
      ],
      "metadata": {
        "id": "jUbfdE8ijGlj"
      },
      "execution_count": null,
      "outputs": []
    },
    {
      "cell_type": "code",
      "source": [
        "# Setup a knn classifier with k neighbors\n",
        "knn = KNeighborsClassifier(n_neighbors=7)"
      ],
      "metadata": {
        "id": "Hm9wGdMLVAFp"
      },
      "execution_count": null,
      "outputs": []
    },
    {
      "cell_type": "code",
      "source": [
        "# Fit the model\n",
        "knn.fit(X_train,y_train)"
      ],
      "metadata": {
        "id": "4snA6z9dVAfy"
      },
      "execution_count": null,
      "outputs": []
    },
    {
      "cell_type": "code",
      "source": [
        "knn.score(X_test,y_test)"
      ],
      "metadata": {
        "id": "T_b_kLu6VA6s"
      },
      "execution_count": null,
      "outputs": []
    },
    {
      "cell_type": "code",
      "source": [
        "# Import confusion_matrix\n",
        "from sklearn.metrics import confusion_matrix,roc_curve"
      ],
      "metadata": {
        "id": "udw5grFGjgBT"
      },
      "execution_count": null,
      "outputs": []
    },
    {
      "cell_type": "code",
      "source": [
        "# Let us get the predictions using the classifier we had fit above\n",
        "y_pred = knn.predict(X_test)"
      ],
      "metadata": {
        "id": "eKF6nHtojs86"
      },
      "execution_count": null,
      "outputs": []
    },
    {
      "cell_type": "code",
      "source": [
        "confusion_matrix(y_test,y_pred)"
      ],
      "metadata": {
        "id": "vLLvX6R7jgjz"
      },
      "execution_count": null,
      "outputs": []
    },
    {
      "cell_type": "code",
      "source": [
        "y_pred_proba = knn.predict_proba(X_test)[:,1]"
      ],
      "metadata": {
        "id": "vcN_5Pr-jg5r"
      },
      "execution_count": null,
      "outputs": []
    },
    {
      "cell_type": "code",
      "source": [
        "# Generate plot\n",
        "plt.title('k-NN Varying number of neighbors')\n",
        "plt.plot(neighbors, test_accuracy, label='Testing Accuracy')\n",
        "plt.plot(neighbors, train_accuracy, label='Training accuracy')\n",
        "plt.legend()\n",
        "plt.xlabel('Number of neighbors')\n",
        "plt.ylabel('Accuracy')\n",
        "plt.show()"
      ],
      "metadata": {
        "id": "aCmG7KS8jLHb"
      },
      "execution_count": null,
      "outputs": []
    },
    {
      "cell_type": "code",
      "source": [
        "# Import GridSearchCV\n",
        "from sklearn.model_selection import GridSearchCV"
      ],
      "metadata": {
        "id": "2pLLJ8_tkkSu"
      },
      "execution_count": null,
      "outputs": []
    },
    {
      "cell_type": "code",
      "source": [
        "# In case of classifier like knn the parameter to be tuned is n_neighbors\n",
        "param_grid = {'n_neighbors':np.arange(1,50)}"
      ],
      "metadata": {
        "id": "ZZlYddt8kj_9"
      },
      "execution_count": null,
      "outputs": []
    },
    {
      "cell_type": "code",
      "source": [
        "knn = KNeighborsClassifier()\n",
        "knn_cv= GridSearchCV(knn,param_grid,cv=5)\n",
        "knn_cv.fit(X,y)"
      ],
      "metadata": {
        "id": "PWdj5PBXkupD"
      },
      "execution_count": null,
      "outputs": []
    },
    {
      "cell_type": "code",
      "source": [
        "knn_cv.best_score_"
      ],
      "metadata": {
        "id": "Lvp2lvThk4Rb"
      },
      "execution_count": null,
      "outputs": []
    },
    {
      "cell_type": "code",
      "source": [
        "knn_cv.best_params_"
      ],
      "metadata": {
        "id": "v_ux5JCEk4Jc"
      },
      "execution_count": null,
      "outputs": []
    },
    {
      "cell_type": "markdown",
      "metadata": {
        "id": "7AN1z2sKpx6M"
      },
      "source": [
        "#### 1. Explain the ML Model used and it's performance using Evaluation metric Score Chart."
      ]
    },
    {
      "cell_type": "code",
      "execution_count": null,
      "metadata": {
        "id": "xIY4lxxGpx6M"
      },
      "outputs": [],
      "source": [
        "# Visualizing evaluation Metric Score chart"
      ]
    },
    {
      "cell_type": "markdown",
      "metadata": {
        "id": "_-qAgymDpx6N"
      },
      "source": [
        "##### Which hyperparameter optimization technique have you used and why?"
      ]
    },
    {
      "cell_type": "markdown",
      "metadata": {
        "id": "lQMffxkwpx6N"
      },
      "source": [
        "Answer Here."
      ]
    },
    {
      "cell_type": "markdown",
      "metadata": {
        "id": "Z-hykwinpx6N"
      },
      "source": [
        "##### Have you seen any improvement? Note down the improvement with updates Evaluation metric Score Chart."
      ]
    },
    {
      "cell_type": "markdown",
      "metadata": {
        "id": "MzVzZC6opx6N"
      },
      "source": [
        "Answer Here."
      ]
    },
    {
      "cell_type": "markdown",
      "metadata": {
        "id": "h_CCil-SKHpo"
      },
      "source": [
        "### 1. Which Evaluation metrics did you consider for a positive business impact and why?"
      ]
    },
    {
      "cell_type": "markdown",
      "metadata": {
        "id": "jHVz9hHDKFms"
      },
      "source": [
        "Answer Here."
      ]
    },
    {
      "cell_type": "markdown",
      "metadata": {
        "id": "cBFFvTBNJzUa"
      },
      "source": [
        "### 2. Which ML model did you choose from the above created models as your final prediction model and why?"
      ]
    },
    {
      "cell_type": "markdown",
      "metadata": {
        "id": "6ksF5Q1LKTVm"
      },
      "source": [
        "Answer Here."
      ]
    },
    {
      "cell_type": "markdown",
      "metadata": {
        "id": "HvGl1hHyA_VK"
      },
      "source": [
        "### 3. Explain the model which you have used and the feature importance using any model explainability tool?"
      ]
    },
    {
      "cell_type": "markdown",
      "metadata": {
        "id": "YnvVTiIxBL-C"
      },
      "source": [
        "Answer Here."
      ]
    },
    {
      "cell_type": "markdown",
      "metadata": {
        "id": "gCX9965dhzqZ"
      },
      "source": [
        "# **Conclusion**"
      ]
    },
    {
      "cell_type": "markdown",
      "metadata": {
        "id": "Fjb1IsQkh3yE"
      },
      "source": [
        "Write the conclusion here."
      ]
    },
    {
      "cell_type": "markdown",
      "metadata": {
        "id": "gIfDvo9L0UH2"
      },
      "source": [
        "### ***Hurrah! You have successfully completed your Machine Learning Capstone Project !!!***"
      ]
    }
  ],
  "metadata": {
    "colab": {
      "collapsed_sections": [
        "vncDsAP0Gaoa",
        "FJNUwmbgGyua",
        "w6K7xa23Elo4",
        "yQaldy8SH6Dl",
        "PBTbrJXOngz2",
        "K5QZ13OEpz2H",
        "lQ7QKXXCp7Bj",
        "448CDAPjqfQr",
        "KSlN3yHqYklG",
        "t6dVpIINYklI",
        "ijmpgYnKYklI",
        "-JiQyfWJYklI",
        "EM7whBJCYoAo",
        "fge-S5ZAYoAp",
        "85gYPyotYoAp",
        "RoGjAbkUYoAp",
        "4Of9eVA-YrdM",
        "iky9q4vBYrdO",
        "F6T5p64dYrdO",
        "y-Ehk30pYrdP",
        "bamQiAODYuh1",
        "QHF8YVU7Yuh3",
        "GwzvFGzlYuh3",
        "qYpmQ266Yuh3",
        "OH-pJp9IphqM",
        "bbFf2-_FphqN",
        "_ouA3fa0phqN",
        "Seke61FWphqN",
        "PIIx-8_IphqN",
        "r2jJGEOYphqO",
        "b0JNsNcRphqO",
        "gCFgpxoyphqP",
        "OVtJsKN_phqQ",
        "1M8mcRywphqQ",
        "tgIPom80phqQ",
        "UV0SzAkaZNRQ",
        "YPEH6qLeZNRQ",
        "Ou-I18pAyIpj",
        "fF3858GYyt-u",
        "hwyV_J3ipUZe",
        "dEUvejAfpUZe",
        "Fd15vwWVpUZf",
        "49K5P_iCpZyH",
        "kLW572S8pZyI",
        "dWbDXHzopZyI",
        "Iwf50b-R2tYG",
        "WVIkgGqN3qsr",
        "XkPnILGE3zoT",
        "Hlsf0x5436Go",
        "mT9DMSJo4nBL",
        "c49ITxTc407N",
        "OeJFEK0N496M",
        "9ExmJH0g5HBk",
        "cJNqERVU536h",
        "k5UmGsbsOxih",
        "PiV4Ypx8fxKe",
        "TfvqoZmBfxKf",
        "HAih1iBOpsJ2",
        "zVGeBEFhpsJ2",
        "h_CCil-SKHpo",
        "cBFFvTBNJzUa",
        "HvGl1hHyA_VK",
        "gCX9965dhzqZ",
        "gIfDvo9L0UH2"
      ],
      "provenance": [],
      "include_colab_link": true
    },
    "gpuClass": "standard",
    "kernelspec": {
      "display_name": "Python 3",
      "name": "python3"
    },
    "language_info": {
      "name": "python"
    }
  },
  "nbformat": 4,
  "nbformat_minor": 0
}